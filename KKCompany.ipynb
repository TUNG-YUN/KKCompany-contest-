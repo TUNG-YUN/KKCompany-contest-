{
 "cells": [
  {
   "cell_type": "markdown",
   "id": "cf8cd8b1-ce1f-48c0-b1d2-e355f7bafe9e",
   "metadata": {},
   "source": [
    "把提供的parquet檔轉成csv檔打開"
   ]
  },
  {
   "cell_type": "code",
   "execution_count": 6,
   "id": "b70c20ad-c453-4beb-a656-87200237ee38",
   "metadata": {},
   "outputs": [
    {
     "name": "stdout",
     "output_type": "stream",
     "text": [
      "         session_id                           song_id  unix_played_at  \\\n",
      "0               598  43519381e8351d7c6afcc66bcc0a0636      1660177283   \n",
      "1               598  928e2e8e316f29efd986fa8d23429431      1660177503   \n",
      "2               598  5229859624d3b58c35646154cf366bf4      1660177582   \n",
      "3               598  49e50187f7a7f658623807780f499a15      1660177584   \n",
      "4               598  bc8b660fe4d4bfa0a13334beae0cb750      1660177587   \n",
      "...             ...                               ...             ...   \n",
      "2861275      714498  13d62012feb791ded330b17098230e0d      1666147178   \n",
      "2861276      714498  a3f4cb9a06f48f2e9ea381be3afc64b3      1666147262   \n",
      "2861277      714498  9bb5e3b8b43fe1e306459c89ab263823      1666147366   \n",
      "2861278      714498  e1ec04cca3d78e9e7fd9793ae45d3638      1666147464   \n",
      "2861279      714498  d55429b033f1eb4209413810c4a6d693      1666147556   \n",
      "\n",
      "         play_status  login_type  listening_order  \n",
      "0                  1           7                1  \n",
      "1                  1           7                2  \n",
      "2                  1           7                3  \n",
      "3                  1           7                4  \n",
      "4                  1           7                5  \n",
      "...              ...         ...              ...  \n",
      "2861275            0           7               16  \n",
      "2861276            0           7               17  \n",
      "2861277            0           7               18  \n",
      "2861278            0           7               19  \n",
      "2861279            0           7               20  \n",
      "\n",
      "[2861280 rows x 6 columns]\n"
     ]
    }
   ],
   "source": [
    "import pandas as pd\n",
    "from pandas import read_parquet\n",
    "data = read_parquet(\"C:/Users/Rebecca/Desktop/datagame-2023/label_test_source.parquet\", engine='pyarrow')\n",
    "print(data)\n",
    "\n",
    "#data.to_csv('C:/Users/user/Desktop/label_test_source.csv')"
   ]
  },
  {
   "cell_type": "code",
   "execution_count": 2,
   "id": "e9b30edf-f834-478c-a1df-3f28bf77af7b",
   "metadata": {},
   "outputs": [
    {
     "name": "stdout",
     "output_type": "stream",
     "text": [
      "         Unnamed: 0  session_id                           song_id  \\\n",
      "0                 0         751  6027767fad949f3ca5e772df04924949   \n",
      "1                 1         751  041547bddb0a3e730f32db84c65868ca   \n",
      "2                 2         751  041547bddb0a3e730f32db84c65868ca   \n",
      "3                 3         751  041547bddb0a3e730f32db84c65868ca   \n",
      "4                 4         751  8b32f88104ecf859be934d9b45f30cd1   \n",
      "...             ...         ...                               ...   \n",
      "1048570     1048570      594615  9589e07759a587ed8f6cfa0b465f2dd0   \n",
      "1048571     1048571      594615  973f80d88caba57210cb0075c0eee5e5   \n",
      "1048572     1048572      594615  d89164a9f67d64d795545cc143628a5f   \n",
      "1048573     1048573      594615  06245d423adcab717294ffcb3e64d114   \n",
      "1048574     1048574      594615  51c79c710f2c9b048f2dcf4840b24590   \n",
      "\n",
      "         unix_played_at  play_status  login_type  listening_order  \n",
      "0            1659598909            1           7                1  \n",
      "1            1659599182            1           7                2  \n",
      "2            1659599184            0           7                3  \n",
      "3            1659599185            0           7                4  \n",
      "4            1659599218            1           7                5  \n",
      "...                 ...          ...         ...              ...  \n",
      "1048570      1667128380            1           7               12  \n",
      "1048571      1667128846            1           7               13  \n",
      "1048572      1667128853            1           7               14  \n",
      "1048573      1667128856            1           7               15  \n",
      "1048574      1667128868            1           7               16  \n",
      "\n",
      "[1048575 rows x 7 columns]\n"
     ]
    }
   ],
   "source": [
    "import pandas as pd\n",
    "df = pd.read_csv('C:/Users/Rebecca/Desktop/KKCompanydata parquest to csv/label_train_source.csv')\n",
    "print(df)"
   ]
  },
  {
   "cell_type": "markdown",
   "id": "ee5c3433-57ab-44c4-b154-77090d07da9e",
   "metadata": {},
   "source": [
    "只保留session_id 和 song_id"
   ]
  },
  {
   "cell_type": "code",
   "execution_count": 7,
   "id": "b6d782d3-bb26-4e81-87e2-25d501ee63f7",
   "metadata": {},
   "outputs": [
    {
     "name": "stdout",
     "output_type": "stream",
     "text": [
      "         session_id                           song_id\n",
      "0               751  6027767fad949f3ca5e772df04924949\n",
      "1               751  041547bddb0a3e730f32db84c65868ca\n",
      "2               751  041547bddb0a3e730f32db84c65868ca\n",
      "3               751  041547bddb0a3e730f32db84c65868ca\n",
      "4               751  8b32f88104ecf859be934d9b45f30cd1\n",
      "...             ...                               ...\n",
      "1048570      594615  9589e07759a587ed8f6cfa0b465f2dd0\n",
      "1048571      594615  973f80d88caba57210cb0075c0eee5e5\n",
      "1048572      594615  d89164a9f67d64d795545cc143628a5f\n",
      "1048573      594615  06245d423adcab717294ffcb3e64d114\n",
      "1048574      594615  51c79c710f2c9b048f2dcf4840b24590\n",
      "\n",
      "[1048575 rows x 2 columns]\n"
     ]
    }
   ],
   "source": [
    "import pandas as pd\n",
    "df = pd.read_csv('C:/Users/Rebecca/Desktop/KKCompanydata parquest to csv/label_train_source.csv',usecols=[\"session_id\",\"song_id\"])\n",
    "print(df)\n",
    "df.to_csv('C:/Users/Rebecca/Desktop/001.csv')"
   ]
  },
  {
   "cell_type": "markdown",
   "id": "0956e3cb-f2e1-4039-9825-f087e7a26180",
   "metadata": {},
   "source": [
    "選擇session_id和song_id，並把session_id當成index_col"
   ]
  },
  {
   "cell_type": "code",
   "execution_count": 3,
   "id": "f9cb1751-d685-49d3-b81c-bb37bf388ac7",
   "metadata": {},
   "outputs": [
    {
     "name": "stdout",
     "output_type": "stream",
     "text": [
      "                                                          genre_id\n",
      "song_id                                                           \n",
      "7366ba2acd92eb262191bdaedf249462  b856b6781d370a3645c6dde0c20b3597\n",
      "0b016dad8634acec9d9156d75c3ca568  2eabe9f164346c7b3ff1bd23078f483e\n",
      "0145eadf202d4c7305aec592f7b9a50b  bb3d7b04b67d5aeb5ab145bdd70750da\n",
      "7380f3306b88887be62fabdfc18925c9  b856b6781d370a3645c6dde0c20b3597\n",
      "0006518b7b5daceacc4acf0c3f2843b8  2eabe9f164346c7b3ff1bd23078f483e\n",
      "...                                                            ...\n",
      "fae89ce7d4c4afe996b82ba0f14cd024  65aeeca3341ca1c6a2ed774aa4e22add\n",
      "6ae20625078e15fdbe516c6f03fb7521  1d7c8bb87dcc1457ed90240c06f9ebdf\n",
      "16ce1c2ec0f86418f9b37a45d7a7f1d0  b856b6781d370a3645c6dde0c20b3597\n",
      "82c57ad358fa3bbf71080b53588dc6cb  6ea61b86b8fff0e3a05bc73ea4eaf21f\n",
      "2e3f90811704ea00c940ca66c3121b3c  6ea61b86b8fff0e3a05bc73ea4eaf21f\n",
      "\n",
      "[1161955 rows x 1 columns]\n"
     ]
    }
   ],
   "source": [
    "import pandas as pd\n",
    "df = pd.read_csv('C:/Users/Rebecca/Desktop/KKCompanydata parquest to csv/meta_song_genre.csv',usecols=[\"song_id\",\"genre_id\"],index_col='song_id')\n",
    "print(df)\n",
    "df.to_csv('C:/Users/Rebecca/Desktop/meta_song_genre01.csv')"
   ]
  },
  {
   "cell_type": "code",
   "execution_count": 20,
   "id": "7ec0dfd0-7626-4093-afd8-70b7f0f9c201",
   "metadata": {},
   "outputs": [
    {
     "name": "stdout",
     "output_type": "stream",
     "text": [
      "         session_id                           song_id\n",
      "0               751  6027767fad949f3ca5e772df04924949\n",
      "1               751  041547bddb0a3e730f32db84c65868ca\n",
      "2               751  041547bddb0a3e730f32db84c65868ca\n",
      "3               751  041547bddb0a3e730f32db84c65868ca\n",
      "4               751  8b32f88104ecf859be934d9b45f30cd1\n",
      "...             ...                               ...\n",
      "1048570      594615  9589e07759a587ed8f6cfa0b465f2dd0\n",
      "1048571      594615  973f80d88caba57210cb0075c0eee5e5\n",
      "1048572      594615  d89164a9f67d64d795545cc143628a5f\n",
      "1048573      594615  06245d423adcab717294ffcb3e64d114\n",
      "1048574      594615  51c79c710f2c9b048f2dcf4840b24590\n",
      "\n",
      "[1048575 rows x 2 columns]\n"
     ]
    }
   ],
   "source": [
    "import pandas as pd\n",
    "data = pd.read_csv('C:/Users/Rebecca/Desktop/label_train_source01.csv')\n",
    "print(data\n",
    "data_sort = data.sort_values(by=['session_id','song_id'],ascending=[True,True])"
   ]
  },
  {
   "cell_type": "markdown",
   "id": "ac0359d3-c212-4234-921c-1d38a41b8ec8",
   "metadata": {},
   "source": [
    "找出每一個session出現最多次的前五首歌id。然後分別打印出來，並給予欄位top1、top2等等欄位名"
   ]
  },
  {
   "cell_type": "code",
   "execution_count": 32,
   "id": "11ee4cc7-f1fa-42a2-90ab-cea5a84e8cf0",
   "metadata": {},
   "outputs": [
    {
     "name": "stdout",
     "output_type": "stream",
     "text": [
      "                                        top1  \\\n",
      "session_id                                     \n",
      "25          902ae99154ec429044ad3a48322c98ad   \n",
      "44          95e2ced9d30a30fde9ea35735da8c43d   \n",
      "61          bf590e6b1538ac29214116917b9028ae   \n",
      "84          ea8a5a4d885038c84ceb23e269e8949b   \n",
      "90          be740fc97e919f7398b1661c1afc55d4   \n",
      "...                                      ...   \n",
      "715270      e352350aaf862449060eba564c6c2ba2   \n",
      "715275      3b1c05dbd1bd5de60e594cb29b2d54ea   \n",
      "715296      6827f6c934de227f6984e28d38f3dce6   \n",
      "715302      c75c52212d554c98ba17ae42bf4dde8e   \n",
      "715315      e12787eb114de3e381aef073dceabcf0   \n",
      "\n",
      "                                        top2  \\\n",
      "session_id                                     \n",
      "25          327d8084f5f86a29671bbe1032a90753   \n",
      "44          5e230b6170b453e0b1acb3e0aa3cf041   \n",
      "61          6b58c34c1cac22ba32344542f3caae43   \n",
      "84          ec4b2ebf12a5553e349052224ad3fb6a   \n",
      "90          4595300cb0e499e5e4548d09f7cfa2fa   \n",
      "...                                      ...   \n",
      "715270      b18df7488a09a70978646cb727fcb28d   \n",
      "715275      f6665950e4b0760e3c9ebc739f1ce849   \n",
      "715296      412514dd92c6b82b061c66848b963810   \n",
      "715302      17afd0c7f882879df773db909ea4af1c   \n",
      "715315      347f9047619c174778e97cb8c625fec9   \n",
      "\n",
      "                                        top3  \\\n",
      "session_id                                     \n",
      "25          bd8caf2b31679970b55322c34efc2340   \n",
      "44          9b60009ed3ab347fe478e7966cd70891   \n",
      "61          4bb58be240a8460950fd69bc7755aef5   \n",
      "84          afae7aba2019b32d09bf3574329a07e6   \n",
      "90          1ec7afd672577c83ceeae560b44235fc   \n",
      "...                                      ...   \n",
      "715270      b196ce4f7e9d2fd41ea8055e44e02df8   \n",
      "715275      351e8a05e56fd57ec56efa4e8e5b17f1   \n",
      "715296      8e954819b7e4d063382bb7aedce4fdba   \n",
      "715302      aad06498fcd9699bee8bfb6bd9181943   \n",
      "715315      bcdd8b03f0a233e76bf761ceaa5737fb   \n",
      "\n",
      "                                        top4                              top5  \n",
      "session_id                                                                      \n",
      "25          4971551024f3b4737ae50835383f76de  3d5a8ace90dfd2321dc033895c59c71f  \n",
      "44          a4dd862946272a72c7b41ca433fecdc9  88b038f3dd0125911a39257ef2004aed  \n",
      "61          4c5291ff6466ff34d08ce846220df43e  681c581c4900cf0cca86f950660149e9  \n",
      "84          676534e4fef400d503cb38c3dea522b7  72223dd61bc581d44e204b2c0df24c80  \n",
      "90          86a4b6369b7f4995080ab8543ce4d8f0  8ffc0279059c19cedf2457623946f589  \n",
      "...                                      ...                               ...  \n",
      "715270      ac02d1342c81c4e5e3c3d68c636cbd6a  cfc4f93a438befca1d5f5bae6cf74bb3  \n",
      "715275      8e68059c7d729877d8b8d7b4d37128bd  c291b57b02226265b3f5f5a77561f6fa  \n",
      "715296      0c389e99ada569dab611bb72d94cb4ab  4368cfcfb16928247090324d2534b340  \n",
      "715302      022514cd6e52205fba816e958aeed9db  fa15c6c512b6002435554a6457dc7735  \n",
      "715315      cb12b9bc4e7e20bc8d4691753dc6e6b7  22cf30e097901b1e238e7bb050f5a9f5  \n",
      "\n",
      "[52430 rows x 5 columns]\n"
     ]
    }
   ],
   "source": [
    "import pandas as pd\n",
    "from collections import Counter\n",
    "\n",
    "# 读取Excel表格\n",
    "df = pd.read_csv('C:/Users/Rebecca/Desktop/KKCompanydata parquest to csv/label_train_source.csv') # 讀原始kkcompany提供的\n",
    "\n",
    "# 将数据按时间点分组\n",
    "grouped_data = df.groupby('session_id')['song_id'].apply(list)\n",
    "\n",
    "# 定義一個函數，用於找到列表中出現最多的五個元素\n",
    "def top_five_numbers(numbers):\n",
    "    counter = Counter(numbers)\n",
    "    top_five = counter.most_common(5)\n",
    "    return [x[0] for x in top_five]\n",
    "    \n",
    "\n",
    "#  找到每個時間點內出現最多的五個數字\n",
    "result = grouped_data.apply(top_five_numbers)\n",
    "\n",
    "# 印出結果\n",
    "#print(result)\n",
    "result_df = pd.DataFrame(result.tolist(), index=result.index,columns=['top1','top2','top3','top4','top5'])\n",
    "print(result_df)\n",
    "result_df.to_csv('C:/Users/Rebecca/Desktop/test.csv') \n",
    "#result.to_csv('C:/Users/Rebecca/Desktop/label_train_source01top1.csv')  # 把結果存檔"
   ]
  },
  {
   "cell_type": "code",
   "execution_count": null,
   "id": "146427fc-b23a-485e-ab0f-c00fe6329899",
   "metadata": {},
   "outputs": [],
   "source": [
    "遇到有空白的欄位。處理方法:補上前一個值fillna"
   ]
  },
  {
   "cell_type": "code",
   "execution_count": 34,
   "id": "9f14bf10-bf36-4616-ab16-21556277c87a",
   "metadata": {},
   "outputs": [
    {
     "name": "stdout",
     "output_type": "stream",
     "text": [
      "                                        top1  \\\n",
      "session_id                                     \n",
      "25          902ae99154ec429044ad3a48322c98ad   \n",
      "44          95e2ced9d30a30fde9ea35735da8c43d   \n",
      "61          bf590e6b1538ac29214116917b9028ae   \n",
      "84          ea8a5a4d885038c84ceb23e269e8949b   \n",
      "90          be740fc97e919f7398b1661c1afc55d4   \n",
      "...                                      ...   \n",
      "715270      e352350aaf862449060eba564c6c2ba2   \n",
      "715275      3b1c05dbd1bd5de60e594cb29b2d54ea   \n",
      "715296      6827f6c934de227f6984e28d38f3dce6   \n",
      "715302      c75c52212d554c98ba17ae42bf4dde8e   \n",
      "715315      e12787eb114de3e381aef073dceabcf0   \n",
      "\n",
      "                                        top2  \\\n",
      "session_id                                     \n",
      "25          327d8084f5f86a29671bbe1032a90753   \n",
      "44          5e230b6170b453e0b1acb3e0aa3cf041   \n",
      "61          6b58c34c1cac22ba32344542f3caae43   \n",
      "84          ec4b2ebf12a5553e349052224ad3fb6a   \n",
      "90          4595300cb0e499e5e4548d09f7cfa2fa   \n",
      "...                                      ...   \n",
      "715270      b18df7488a09a70978646cb727fcb28d   \n",
      "715275      f6665950e4b0760e3c9ebc739f1ce849   \n",
      "715296      412514dd92c6b82b061c66848b963810   \n",
      "715302      17afd0c7f882879df773db909ea4af1c   \n",
      "715315      347f9047619c174778e97cb8c625fec9   \n",
      "\n",
      "                                        top3  \\\n",
      "session_id                                     \n",
      "25          bd8caf2b31679970b55322c34efc2340   \n",
      "44          9b60009ed3ab347fe478e7966cd70891   \n",
      "61          4bb58be240a8460950fd69bc7755aef5   \n",
      "84          afae7aba2019b32d09bf3574329a07e6   \n",
      "90          1ec7afd672577c83ceeae560b44235fc   \n",
      "...                                      ...   \n",
      "715270      b196ce4f7e9d2fd41ea8055e44e02df8   \n",
      "715275      351e8a05e56fd57ec56efa4e8e5b17f1   \n",
      "715296      8e954819b7e4d063382bb7aedce4fdba   \n",
      "715302      aad06498fcd9699bee8bfb6bd9181943   \n",
      "715315      bcdd8b03f0a233e76bf761ceaa5737fb   \n",
      "\n",
      "                                        top4                              top5  \n",
      "session_id                                                                      \n",
      "25          4971551024f3b4737ae50835383f76de  3d5a8ace90dfd2321dc033895c59c71f  \n",
      "44          a4dd862946272a72c7b41ca433fecdc9  88b038f3dd0125911a39257ef2004aed  \n",
      "61          4c5291ff6466ff34d08ce846220df43e  681c581c4900cf0cca86f950660149e9  \n",
      "84          676534e4fef400d503cb38c3dea522b7  72223dd61bc581d44e204b2c0df24c80  \n",
      "90          86a4b6369b7f4995080ab8543ce4d8f0  8ffc0279059c19cedf2457623946f589  \n",
      "...                                      ...                               ...  \n",
      "715270      ac02d1342c81c4e5e3c3d68c636cbd6a  cfc4f93a438befca1d5f5bae6cf74bb3  \n",
      "715275      8e68059c7d729877d8b8d7b4d37128bd  c291b57b02226265b3f5f5a77561f6fa  \n",
      "715296      0c389e99ada569dab611bb72d94cb4ab  4368cfcfb16928247090324d2534b340  \n",
      "715302      022514cd6e52205fba816e958aeed9db  fa15c6c512b6002435554a6457dc7735  \n",
      "715315      cb12b9bc4e7e20bc8d4691753dc6e6b7  22cf30e097901b1e238e7bb050f5a9f5  \n",
      "\n",
      "[52430 rows x 5 columns]\n"
     ]
    }
   ],
   "source": [
    "import pandas as pd\n",
    "from collections import Counter\n",
    "\n",
    "# 读取Excel表格\n",
    "df = pd.read_csv('C:/Users/Rebecca/Desktop/KKCompanydata parquest to csv/label_train_source.csv') # 讀原始kkcompany提供的\n",
    "\n",
    "# 将数据按时间点分组\n",
    "grouped_data = df.groupby('session_id')['song_id'].apply(list)\n",
    "\n",
    "# 定義一個函數，用於找到列表中出現最多的五個元素\n",
    "def top_five_numbers(numbers):\n",
    "    counter = Counter(numbers)\n",
    "    top_five = counter.most_common(5)\n",
    "    return [x[0] for x in top_five]\n",
    "    \n",
    "\n",
    "#  找到每個時間點內出現最多的五個數字\n",
    "result = grouped_data.apply(top_five_numbers)\n",
    "\n",
    "# 印出結果\n",
    "#print(result)\n",
    "result_df = pd.DataFrame(result.tolist(), index=result.index,columns=['top1','top2','top3','top4','top5'])\n",
    "result_df = result_df.ffill()\n",
    "\n",
    "print(result_df)\n",
    "result_df.to_csv('C:/Users/Rebecca/Desktop/test01.csv') \n",
    "#result.to_csv('C:/Users/Rebecca/Desktop/label_train_source01top1.csv')  # 把結果存檔"
   ]
  },
  {
   "cell_type": "markdown",
   "id": "b8c7072e-e71a-4900-a1a0-6fad6c2230da",
   "metadata": {},
   "source": [
    "基於使用者為基礎的協同過濾法"
   ]
  },
  {
   "cell_type": "code",
   "execution_count": 7,
   "id": "23a1eaea-7d75-412a-9292-33a363736227",
   "metadata": {},
   "outputs": [
    {
     "name": "stdout",
     "output_type": "stream",
     "text": [
      "Collecting scikit-learn\n",
      "  Downloading scikit_learn-1.3.2-cp311-cp311-win_amd64.whl.metadata (11 kB)\n",
      "Requirement already satisfied: numpy<2.0,>=1.17.3 in c:\\users\\rebecca\\anaconda3\\envs\\practice\\lib\\site-packages (from scikit-learn) (1.26.2)\n",
      "Collecting scipy>=1.5.0 (from scikit-learn)\n",
      "  Downloading scipy-1.11.4-cp311-cp311-win_amd64.whl.metadata (60 kB)\n",
      "     ---------------------------------------- 0.0/60.4 kB ? eta -:--:--\n",
      "     ------ --------------------------------- 10.2/60.4 kB ? eta -:--:--\n",
      "     ------------------- ------------------ 30.7/60.4 kB 435.7 kB/s eta 0:00:01\n",
      "     -------------------------------------- 60.4/60.4 kB 533.6 kB/s eta 0:00:00\n",
      "Collecting joblib>=1.1.1 (from scikit-learn)\n",
      "  Downloading joblib-1.3.2-py3-none-any.whl.metadata (5.4 kB)\n",
      "Collecting threadpoolctl>=2.0.0 (from scikit-learn)\n",
      "  Downloading threadpoolctl-3.2.0-py3-none-any.whl.metadata (10.0 kB)\n",
      "Downloading scikit_learn-1.3.2-cp311-cp311-win_amd64.whl (9.2 MB)\n",
      "   ---------------------------------------- 0.0/9.2 MB ? eta -:--:--\n",
      "   ---------------------------------------- 0.1/9.2 MB 2.3 MB/s eta 0:00:04\n",
      "    --------------------------------------- 0.2/9.2 MB 2.1 MB/s eta 0:00:05\n",
      "   - -------------------------------------- 0.4/9.2 MB 2.9 MB/s eta 0:00:04\n",
      "   -- ------------------------------------- 0.6/9.2 MB 3.2 MB/s eta 0:00:03\n",
      "   ---- ----------------------------------- 1.0/9.2 MB 4.2 MB/s eta 0:00:02\n",
      "   ------ --------------------------------- 1.4/9.2 MB 4.7 MB/s eta 0:00:02\n",
      "   ---------- ----------------------------- 2.3/9.2 MB 7.0 MB/s eta 0:00:01\n",
      "   ------------ --------------------------- 2.9/9.2 MB 7.8 MB/s eta 0:00:01\n",
      "   ----------------- ---------------------- 3.9/9.2 MB 9.0 MB/s eta 0:00:01\n",
      "   -------------------- ------------------- 4.7/9.2 MB 10.1 MB/s eta 0:00:01\n",
      "   ------------------------- -------------- 5.8/9.2 MB 11.3 MB/s eta 0:00:01\n",
      "   ------------------------------ --------- 7.0/9.2 MB 12.5 MB/s eta 0:00:01\n",
      "   ----------------------------------- ---- 8.2/9.2 MB 13.5 MB/s eta 0:00:01\n",
      "   ---------------------------------------  9.2/9.2 MB 14.0 MB/s eta 0:00:01\n",
      "   ---------------------------------------- 9.2/9.2 MB 13.7 MB/s eta 0:00:00\n",
      "Downloading joblib-1.3.2-py3-none-any.whl (302 kB)\n",
      "   ---------------------------------------- 0.0/302.2 kB ? eta -:--:--\n",
      "   --------------------------------------- 302.2/302.2 kB 19.5 MB/s eta 0:00:00\n",
      "Downloading scipy-1.11.4-cp311-cp311-win_amd64.whl (44.1 MB)\n",
      "   ---------------------------------------- 0.0/44.1 MB ? eta -:--:--\n",
      "   - -------------------------------------- 1.3/44.1 MB 28.7 MB/s eta 0:00:02\n",
      "   -- ------------------------------------- 2.2/44.1 MB 28.4 MB/s eta 0:00:02\n",
      "   --- ------------------------------------ 3.5/44.1 MB 27.5 MB/s eta 0:00:02\n",
      "   ---- ----------------------------------- 4.6/44.1 MB 24.8 MB/s eta 0:00:02\n",
      "   ----- ---------------------------------- 5.8/44.1 MB 24.6 MB/s eta 0:00:02\n",
      "   ------ --------------------------------- 6.9/44.1 MB 24.7 MB/s eta 0:00:02\n",
      "   ------- -------------------------------- 8.2/44.1 MB 25.1 MB/s eta 0:00:02\n",
      "   -------- ------------------------------- 9.1/44.1 MB 25.4 MB/s eta 0:00:02\n",
      "   --------- ------------------------------ 10.7/44.1 MB 25.2 MB/s eta 0:00:02\n",
      "   ---------- ----------------------------- 11.8/44.1 MB 26.2 MB/s eta 0:00:02\n",
      "   ----------- ---------------------------- 13.0/44.1 MB 25.2 MB/s eta 0:00:02\n",
      "   ------------ --------------------------- 14.2/44.1 MB 25.2 MB/s eta 0:00:02\n",
      "   -------------- ------------------------- 15.5/44.1 MB 25.2 MB/s eta 0:00:02\n",
      "   --------------- ------------------------ 16.7/44.1 MB 25.2 MB/s eta 0:00:02\n",
      "   ---------------- ----------------------- 17.9/44.1 MB 25.1 MB/s eta 0:00:02\n",
      "   ----------------- ---------------------- 19.0/44.1 MB 25.1 MB/s eta 0:00:02\n",
      "   ----------------- ---------------------- 19.8/44.1 MB 24.3 MB/s eta 0:00:02\n",
      "   ------------------ --------------------- 20.7/44.1 MB 23.4 MB/s eta 0:00:02\n",
      "   ------------------- -------------------- 21.5/44.1 MB 22.6 MB/s eta 0:00:02\n",
      "   -------------------- ------------------- 22.2/44.1 MB 21.8 MB/s eta 0:00:02\n",
      "   -------------------- ------------------- 23.0/44.1 MB 20.5 MB/s eta 0:00:02\n",
      "   --------------------- ------------------ 23.7/44.1 MB 19.3 MB/s eta 0:00:02\n",
      "   ---------------------- ----------------- 24.6/44.1 MB 19.8 MB/s eta 0:00:01\n",
      "   ----------------------- ---------------- 25.8/44.1 MB 19.3 MB/s eta 0:00:01\n",
      "   ------------------------ --------------- 27.0/44.1 MB 19.3 MB/s eta 0:00:01\n",
      "   ------------------------- -------------- 28.0/44.1 MB 19.9 MB/s eta 0:00:01\n",
      "   -------------------------- ------------- 29.1/44.1 MB 19.3 MB/s eta 0:00:01\n",
      "   --------------------------- ------------ 30.2/44.1 MB 19.2 MB/s eta 0:00:01\n",
      "   ---------------------------- ----------- 31.4/44.1 MB 20.5 MB/s eta 0:00:01\n",
      "   ----------------------------- ---------- 32.6/44.1 MB 22.6 MB/s eta 0:00:01\n",
      "   ------------------------------ --------- 33.9/44.1 MB 24.2 MB/s eta 0:00:01\n",
      "   ------------------------------- -------- 35.2/44.1 MB 24.2 MB/s eta 0:00:01\n",
      "   -------------------------------- ------- 36.2/44.1 MB 24.2 MB/s eta 0:00:01\n",
      "   --------------------------------- ------ 37.3/44.1 MB 24.2 MB/s eta 0:00:01\n",
      "   ---------------------------------- ----- 38.2/44.1 MB 23.4 MB/s eta 0:00:01\n",
      "   ----------------------------------- ---- 39.3/44.1 MB 24.2 MB/s eta 0:00:01\n",
      "   ------------------------------------ --- 40.4/44.1 MB 25.2 MB/s eta 0:00:01\n",
      "   ------------------------------------- -- 41.3/44.1 MB 25.2 MB/s eta 0:00:01\n",
      "   -------------------------------------- - 42.3/44.1 MB 25.2 MB/s eta 0:00:01\n",
      "   ---------------------------------------  43.3/44.1 MB 25.2 MB/s eta 0:00:01\n",
      "   ---------------------------------------  44.1/44.1 MB 25.1 MB/s eta 0:00:01\n",
      "   ---------------------------------------  44.1/44.1 MB 25.1 MB/s eta 0:00:01\n",
      "   ---------------------------------------- 44.1/44.1 MB 21.8 MB/s eta 0:00:00\n",
      "Downloading threadpoolctl-3.2.0-py3-none-any.whl (15 kB)\n",
      "Installing collected packages: threadpoolctl, scipy, joblib, scikit-learn\n",
      "Successfully installed joblib-1.3.2 scikit-learn-1.3.2 scipy-1.11.4 threadpoolctl-3.2.0\n",
      "Note: you may need to restart the kernel to use updated packages.\n"
     ]
    }
   ],
   "source": [
    "pip install scikit-learn"
   ]
  },
  {
   "cell_type": "code",
   "execution_count": 1,
   "id": "c240b07e-5daa-487a-8951-573e387e27e8",
   "metadata": {},
   "outputs": [],
   "source": [
    "import numpy as np \n",
    "import pandas as pd\n",
    "from sklearn.metrics.pairwise import paired_distances,cosine_similarity\n"
   ]
  },
  {
   "cell_type": "markdown",
   "id": "e4e81b44-7b5a-4a5c-a61a-d9a1f27c1910",
   "metadata": {},
   "source": [
    "讀取資料"
   ]
  },
  {
   "cell_type": "code",
   "execution_count": 10,
   "id": "06d1b2b8-b0ed-42bb-8021-f45922b910cc",
   "metadata": {},
   "outputs": [
    {
     "data": {
      "text/html": [
       "<div>\n",
       "<style scoped>\n",
       "    .dataframe tbody tr th:only-of-type {\n",
       "        vertical-align: middle;\n",
       "    }\n",
       "\n",
       "    .dataframe tbody tr th {\n",
       "        vertical-align: top;\n",
       "    }\n",
       "\n",
       "    .dataframe thead th {\n",
       "        text-align: right;\n",
       "    }\n",
       "</style>\n",
       "<table border=\"1\" class=\"dataframe\">\n",
       "  <thead>\n",
       "    <tr style=\"text-align: right;\">\n",
       "      <th></th>\n",
       "      <th>session_id</th>\n",
       "      <th>song_id</th>\n",
       "    </tr>\n",
       "  </thead>\n",
       "  <tbody>\n",
       "    <tr>\n",
       "      <th>0</th>\n",
       "      <td>751</td>\n",
       "      <td>6027767fad949f3ca5e772df04924949</td>\n",
       "    </tr>\n",
       "    <tr>\n",
       "      <th>1</th>\n",
       "      <td>751</td>\n",
       "      <td>041547bddb0a3e730f32db84c65868ca</td>\n",
       "    </tr>\n",
       "    <tr>\n",
       "      <th>2</th>\n",
       "      <td>751</td>\n",
       "      <td>041547bddb0a3e730f32db84c65868ca</td>\n",
       "    </tr>\n",
       "    <tr>\n",
       "      <th>3</th>\n",
       "      <td>751</td>\n",
       "      <td>041547bddb0a3e730f32db84c65868ca</td>\n",
       "    </tr>\n",
       "    <tr>\n",
       "      <th>4</th>\n",
       "      <td>751</td>\n",
       "      <td>8b32f88104ecf859be934d9b45f30cd1</td>\n",
       "    </tr>\n",
       "  </tbody>\n",
       "</table>\n",
       "</div>"
      ],
      "text/plain": [
       "   session_id                           song_id\n",
       "0         751  6027767fad949f3ca5e772df04924949\n",
       "1         751  041547bddb0a3e730f32db84c65868ca\n",
       "2         751  041547bddb0a3e730f32db84c65868ca\n",
       "3         751  041547bddb0a3e730f32db84c65868ca\n",
       "4         751  8b32f88104ecf859be934d9b45f30cd1"
      ]
     },
     "metadata": {},
     "output_type": "display_data"
    },
    {
     "data": {
      "text/html": [
       "<div>\n",
       "<style scoped>\n",
       "    .dataframe tbody tr th:only-of-type {\n",
       "        vertical-align: middle;\n",
       "    }\n",
       "\n",
       "    .dataframe tbody tr th {\n",
       "        vertical-align: top;\n",
       "    }\n",
       "\n",
       "    .dataframe thead th {\n",
       "        text-align: right;\n",
       "    }\n",
       "</style>\n",
       "<table border=\"1\" class=\"dataframe\">\n",
       "  <thead>\n",
       "    <tr style=\"text-align: right;\">\n",
       "      <th></th>\n",
       "      <th>song_id</th>\n",
       "      <th>genre_id</th>\n",
       "    </tr>\n",
       "  </thead>\n",
       "  <tbody>\n",
       "    <tr>\n",
       "      <th>0</th>\n",
       "      <td>7366ba2acd92eb262191bdaedf249462</td>\n",
       "      <td>b856b6781d370a3645c6dde0c20b3597</td>\n",
       "    </tr>\n",
       "    <tr>\n",
       "      <th>1</th>\n",
       "      <td>0b016dad8634acec9d9156d75c3ca568</td>\n",
       "      <td>2eabe9f164346c7b3ff1bd23078f483e</td>\n",
       "    </tr>\n",
       "    <tr>\n",
       "      <th>2</th>\n",
       "      <td>0145eadf202d4c7305aec592f7b9a50b</td>\n",
       "      <td>bb3d7b04b67d5aeb5ab145bdd70750da</td>\n",
       "    </tr>\n",
       "    <tr>\n",
       "      <th>3</th>\n",
       "      <td>7380f3306b88887be62fabdfc18925c9</td>\n",
       "      <td>b856b6781d370a3645c6dde0c20b3597</td>\n",
       "    </tr>\n",
       "    <tr>\n",
       "      <th>4</th>\n",
       "      <td>0006518b7b5daceacc4acf0c3f2843b8</td>\n",
       "      <td>2eabe9f164346c7b3ff1bd23078f483e</td>\n",
       "    </tr>\n",
       "  </tbody>\n",
       "</table>\n",
       "</div>"
      ],
      "text/plain": [
       "                            song_id                          genre_id\n",
       "0  7366ba2acd92eb262191bdaedf249462  b856b6781d370a3645c6dde0c20b3597\n",
       "1  0b016dad8634acec9d9156d75c3ca568  2eabe9f164346c7b3ff1bd23078f483e\n",
       "2  0145eadf202d4c7305aec592f7b9a50b  bb3d7b04b67d5aeb5ab145bdd70750da\n",
       "3  7380f3306b88887be62fabdfc18925c9  b856b6781d370a3645c6dde0c20b3597\n",
       "4  0006518b7b5daceacc4acf0c3f2843b8  2eabe9f164346c7b3ff1bd23078f483e"
      ]
     },
     "metadata": {},
     "output_type": "display_data"
    }
   ],
   "source": [
    "session = pd.read_csv('C:/Users/Rebecca/Desktop/label_train_source01.csv')\n",
    "song = pd.read_csv('C:/Users/Rebecca/Desktop/meta_song_genre01.csv')\n",
    "display(session.head())\n",
    "display(song.head())"
   ]
  },
  {
   "cell_type": "markdown",
   "id": "29d4a0c4-3cf7-414d-b26a-c73810c2e00f",
   "metadata": {},
   "source": [
    "合併資料做DataFrame"
   ]
  },
  {
   "cell_type": "code",
   "execution_count": 11,
   "id": "2e3f426c-4212-4008-860c-c86186dcb975",
   "metadata": {},
   "outputs": [
    {
     "data": {
      "text/html": [
       "<div>\n",
       "<style scoped>\n",
       "    .dataframe tbody tr th:only-of-type {\n",
       "        vertical-align: middle;\n",
       "    }\n",
       "\n",
       "    .dataframe tbody tr th {\n",
       "        vertical-align: top;\n",
       "    }\n",
       "\n",
       "    .dataframe thead th {\n",
       "        text-align: right;\n",
       "    }\n",
       "</style>\n",
       "<table border=\"1\" class=\"dataframe\">\n",
       "  <thead>\n",
       "    <tr style=\"text-align: right;\">\n",
       "      <th></th>\n",
       "      <th>session_id</th>\n",
       "      <th>song_id</th>\n",
       "      <th>genre_id</th>\n",
       "    </tr>\n",
       "  </thead>\n",
       "  <tbody>\n",
       "    <tr>\n",
       "      <th>0</th>\n",
       "      <td>751</td>\n",
       "      <td>6027767fad949f3ca5e772df04924949</td>\n",
       "      <td>ce4db56f6a48426643b08038139a8a75</td>\n",
       "    </tr>\n",
       "    <tr>\n",
       "      <th>1</th>\n",
       "      <td>751</td>\n",
       "      <td>6027767fad949f3ca5e772df04924949</td>\n",
       "      <td>5f2a134d2289a8a3de6663ee8e248c8a</td>\n",
       "    </tr>\n",
       "    <tr>\n",
       "      <th>2</th>\n",
       "      <td>751</td>\n",
       "      <td>6027767fad949f3ca5e772df04924949</td>\n",
       "      <td>ce4db56f6a48426643b08038139a8a75</td>\n",
       "    </tr>\n",
       "    <tr>\n",
       "      <th>3</th>\n",
       "      <td>751</td>\n",
       "      <td>6027767fad949f3ca5e772df04924949</td>\n",
       "      <td>5f2a134d2289a8a3de6663ee8e248c8a</td>\n",
       "    </tr>\n",
       "    <tr>\n",
       "      <th>4</th>\n",
       "      <td>751</td>\n",
       "      <td>6027767fad949f3ca5e772df04924949</td>\n",
       "      <td>ce4db56f6a48426643b08038139a8a75</td>\n",
       "    </tr>\n",
       "    <tr>\n",
       "      <th>...</th>\n",
       "      <td>...</td>\n",
       "      <td>...</td>\n",
       "      <td>...</td>\n",
       "    </tr>\n",
       "    <tr>\n",
       "      <th>1081161</th>\n",
       "      <td>594615</td>\n",
       "      <td>04e3e90f20d33c718df6ca2d0fbd0243</td>\n",
       "      <td>5f2a134d2289a8a3de6663ee8e248c8a</td>\n",
       "    </tr>\n",
       "    <tr>\n",
       "      <th>1081162</th>\n",
       "      <td>594615</td>\n",
       "      <td>a97bd8401f395088d47bb01c2e16e1df</td>\n",
       "      <td>5f2a134d2289a8a3de6663ee8e248c8a</td>\n",
       "    </tr>\n",
       "    <tr>\n",
       "      <th>1081163</th>\n",
       "      <td>594615</td>\n",
       "      <td>9589e07759a587ed8f6cfa0b465f2dd0</td>\n",
       "      <td>5f2a134d2289a8a3de6663ee8e248c8a</td>\n",
       "    </tr>\n",
       "    <tr>\n",
       "      <th>1081164</th>\n",
       "      <td>594615</td>\n",
       "      <td>9589e07759a587ed8f6cfa0b465f2dd0</td>\n",
       "      <td>5f2a134d2289a8a3de6663ee8e248c8a</td>\n",
       "    </tr>\n",
       "    <tr>\n",
       "      <th>1081165</th>\n",
       "      <td>594615</td>\n",
       "      <td>cb49fba2576d3c25648d29d601d0e69e</td>\n",
       "      <td>5f2a134d2289a8a3de6663ee8e248c8a</td>\n",
       "    </tr>\n",
       "  </tbody>\n",
       "</table>\n",
       "<p>1081166 rows × 3 columns</p>\n",
       "</div>"
      ],
      "text/plain": [
       "         session_id                           song_id  \\\n",
       "0               751  6027767fad949f3ca5e772df04924949   \n",
       "1               751  6027767fad949f3ca5e772df04924949   \n",
       "2               751  6027767fad949f3ca5e772df04924949   \n",
       "3               751  6027767fad949f3ca5e772df04924949   \n",
       "4               751  6027767fad949f3ca5e772df04924949   \n",
       "...             ...                               ...   \n",
       "1081161      594615  04e3e90f20d33c718df6ca2d0fbd0243   \n",
       "1081162      594615  a97bd8401f395088d47bb01c2e16e1df   \n",
       "1081163      594615  9589e07759a587ed8f6cfa0b465f2dd0   \n",
       "1081164      594615  9589e07759a587ed8f6cfa0b465f2dd0   \n",
       "1081165      594615  cb49fba2576d3c25648d29d601d0e69e   \n",
       "\n",
       "                                 genre_id  \n",
       "0        ce4db56f6a48426643b08038139a8a75  \n",
       "1        5f2a134d2289a8a3de6663ee8e248c8a  \n",
       "2        ce4db56f6a48426643b08038139a8a75  \n",
       "3        5f2a134d2289a8a3de6663ee8e248c8a  \n",
       "4        ce4db56f6a48426643b08038139a8a75  \n",
       "...                                   ...  \n",
       "1081161  5f2a134d2289a8a3de6663ee8e248c8a  \n",
       "1081162  5f2a134d2289a8a3de6663ee8e248c8a  \n",
       "1081163  5f2a134d2289a8a3de6663ee8e248c8a  \n",
       "1081164  5f2a134d2289a8a3de6663ee8e248c8a  \n",
       "1081165  5f2a134d2289a8a3de6663ee8e248c8a  \n",
       "\n",
       "[1081166 rows x 3 columns]"
      ]
     },
     "execution_count": 11,
     "metadata": {},
     "output_type": "execute_result"
    }
   ],
   "source": [
    "data = pd.merge(session,song,on='song_id')\n",
    "data"
   ]
  },
  {
   "cell_type": "markdown",
   "id": "ccbf095c-5708-4036-9ac9-38035eb9a876",
   "metadata": {},
   "source": [
    "看一下資料分布"
   ]
  },
  {
   "cell_type": "code",
   "execution_count": 13,
   "id": "1ff62c41-218d-4cf8-9d24-ee0cff4f6ae8",
   "metadata": {},
   "outputs": [
    {
     "ename": "KeyError",
     "evalue": "'session_id'",
     "output_type": "error",
     "traceback": [
      "\u001b[1;31m---------------------------------------------------------------------------\u001b[0m",
      "\u001b[1;31mKeyError\u001b[0m                                  Traceback (most recent call last)",
      "Cell \u001b[1;32mIn[13], line 1\u001b[0m\n\u001b[1;32m----> 1\u001b[0m groups \u001b[38;5;241m=\u001b[39m df\u001b[38;5;241m.\u001b[39mgroupby(\u001b[38;5;124m'\u001b[39m\u001b[38;5;124msession_id\u001b[39m\u001b[38;5;124m'\u001b[39m)\n\u001b[0;32m      2\u001b[0m pd\u001b[38;5;241m.\u001b[39mDataFrame(groups\u001b[38;5;241m.\u001b[39msize(),columns\u001b[38;5;241m=\u001b[39m[\u001b[38;5;124m'\u001b[39m\u001b[38;5;124mcount\u001b[39m\u001b[38;5;124m'\u001b[39m])\u001b[38;5;241m.\u001b[39mplot()\n",
      "File \u001b[1;32m~\\anaconda3\\envs\\practice\\Lib\\site-packages\\pandas\\core\\frame.py:8872\u001b[0m, in \u001b[0;36mDataFrame.groupby\u001b[1;34m(self, by, axis, level, as_index, sort, group_keys, observed, dropna)\u001b[0m\n\u001b[0;32m   8869\u001b[0m \u001b[38;5;28;01mif\u001b[39;00m level \u001b[38;5;129;01mis\u001b[39;00m \u001b[38;5;28;01mNone\u001b[39;00m \u001b[38;5;129;01mand\u001b[39;00m by \u001b[38;5;129;01mis\u001b[39;00m \u001b[38;5;28;01mNone\u001b[39;00m:\n\u001b[0;32m   8870\u001b[0m     \u001b[38;5;28;01mraise\u001b[39;00m \u001b[38;5;167;01mTypeError\u001b[39;00m(\u001b[38;5;124m\"\u001b[39m\u001b[38;5;124mYou have to supply one of \u001b[39m\u001b[38;5;124m'\u001b[39m\u001b[38;5;124mby\u001b[39m\u001b[38;5;124m'\u001b[39m\u001b[38;5;124m and \u001b[39m\u001b[38;5;124m'\u001b[39m\u001b[38;5;124mlevel\u001b[39m\u001b[38;5;124m'\u001b[39m\u001b[38;5;124m\"\u001b[39m)\n\u001b[1;32m-> 8872\u001b[0m \u001b[38;5;28;01mreturn\u001b[39;00m DataFrameGroupBy(\n\u001b[0;32m   8873\u001b[0m     obj\u001b[38;5;241m=\u001b[39m\u001b[38;5;28mself\u001b[39m,\n\u001b[0;32m   8874\u001b[0m     keys\u001b[38;5;241m=\u001b[39mby,\n\u001b[0;32m   8875\u001b[0m     axis\u001b[38;5;241m=\u001b[39maxis,\n\u001b[0;32m   8876\u001b[0m     level\u001b[38;5;241m=\u001b[39mlevel,\n\u001b[0;32m   8877\u001b[0m     as_index\u001b[38;5;241m=\u001b[39mas_index,\n\u001b[0;32m   8878\u001b[0m     sort\u001b[38;5;241m=\u001b[39msort,\n\u001b[0;32m   8879\u001b[0m     group_keys\u001b[38;5;241m=\u001b[39mgroup_keys,\n\u001b[0;32m   8880\u001b[0m     observed\u001b[38;5;241m=\u001b[39mobserved,\n\u001b[0;32m   8881\u001b[0m     dropna\u001b[38;5;241m=\u001b[39mdropna,\n\u001b[0;32m   8882\u001b[0m )\n",
      "File \u001b[1;32m~\\anaconda3\\envs\\practice\\Lib\\site-packages\\pandas\\core\\groupby\\groupby.py:1274\u001b[0m, in \u001b[0;36mGroupBy.__init__\u001b[1;34m(self, obj, keys, axis, level, grouper, exclusions, selection, as_index, sort, group_keys, observed, dropna)\u001b[0m\n\u001b[0;32m   1271\u001b[0m \u001b[38;5;28mself\u001b[39m\u001b[38;5;241m.\u001b[39mdropna \u001b[38;5;241m=\u001b[39m dropna\n\u001b[0;32m   1273\u001b[0m \u001b[38;5;28;01mif\u001b[39;00m grouper \u001b[38;5;129;01mis\u001b[39;00m \u001b[38;5;28;01mNone\u001b[39;00m:\n\u001b[1;32m-> 1274\u001b[0m     grouper, exclusions, obj \u001b[38;5;241m=\u001b[39m get_grouper(\n\u001b[0;32m   1275\u001b[0m         obj,\n\u001b[0;32m   1276\u001b[0m         keys,\n\u001b[0;32m   1277\u001b[0m         axis\u001b[38;5;241m=\u001b[39maxis,\n\u001b[0;32m   1278\u001b[0m         level\u001b[38;5;241m=\u001b[39mlevel,\n\u001b[0;32m   1279\u001b[0m         sort\u001b[38;5;241m=\u001b[39msort,\n\u001b[0;32m   1280\u001b[0m         observed\u001b[38;5;241m=\u001b[39m\u001b[38;5;28;01mFalse\u001b[39;00m \u001b[38;5;28;01mif\u001b[39;00m observed \u001b[38;5;129;01mis\u001b[39;00m lib\u001b[38;5;241m.\u001b[39mno_default \u001b[38;5;28;01melse\u001b[39;00m observed,\n\u001b[0;32m   1281\u001b[0m         dropna\u001b[38;5;241m=\u001b[39m\u001b[38;5;28mself\u001b[39m\u001b[38;5;241m.\u001b[39mdropna,\n\u001b[0;32m   1282\u001b[0m     )\n\u001b[0;32m   1284\u001b[0m \u001b[38;5;28;01mif\u001b[39;00m observed \u001b[38;5;129;01mis\u001b[39;00m lib\u001b[38;5;241m.\u001b[39mno_default:\n\u001b[0;32m   1285\u001b[0m     \u001b[38;5;28;01mif\u001b[39;00m \u001b[38;5;28many\u001b[39m(ping\u001b[38;5;241m.\u001b[39m_passed_categorical \u001b[38;5;28;01mfor\u001b[39;00m ping \u001b[38;5;129;01min\u001b[39;00m grouper\u001b[38;5;241m.\u001b[39mgroupings):\n",
      "File \u001b[1;32m~\\anaconda3\\envs\\practice\\Lib\\site-packages\\pandas\\core\\groupby\\grouper.py:1009\u001b[0m, in \u001b[0;36mget_grouper\u001b[1;34m(obj, key, axis, level, sort, observed, validate, dropna)\u001b[0m\n\u001b[0;32m   1007\u001b[0m         in_axis, level, gpr \u001b[38;5;241m=\u001b[39m \u001b[38;5;28;01mFalse\u001b[39;00m, gpr, \u001b[38;5;28;01mNone\u001b[39;00m\n\u001b[0;32m   1008\u001b[0m     \u001b[38;5;28;01melse\u001b[39;00m:\n\u001b[1;32m-> 1009\u001b[0m         \u001b[38;5;28;01mraise\u001b[39;00m \u001b[38;5;167;01mKeyError\u001b[39;00m(gpr)\n\u001b[0;32m   1010\u001b[0m \u001b[38;5;28;01melif\u001b[39;00m \u001b[38;5;28misinstance\u001b[39m(gpr, Grouper) \u001b[38;5;129;01mand\u001b[39;00m gpr\u001b[38;5;241m.\u001b[39mkey \u001b[38;5;129;01mis\u001b[39;00m \u001b[38;5;129;01mnot\u001b[39;00m \u001b[38;5;28;01mNone\u001b[39;00m:\n\u001b[0;32m   1011\u001b[0m     \u001b[38;5;66;03m# Add key to exclusions\u001b[39;00m\n\u001b[0;32m   1012\u001b[0m     exclusions\u001b[38;5;241m.\u001b[39madd(gpr\u001b[38;5;241m.\u001b[39mkey)\n",
      "\u001b[1;31mKeyError\u001b[0m: 'session_id'"
     ]
    }
   ],
   "source": [
    "groups = df.groupby('session_id')\n",
    "pd.DataFrame(groups.size(),columns=['count']).plot();"
   ]
  },
  {
   "cell_type": "markdown",
   "id": "ccf5f8e5-4ee4-4204-8bc7-8462ad24cbf9",
   "metadata": {},
   "source": [
    "定義find_common_songs函式，目的是找出session與其他session共同聽過的歌"
   ]
  },
  {
   "cell_type": "code",
   "execution_count": 15,
   "id": "1951b4fc-e634-4b2f-9fbb-cad27afa6c81",
   "metadata": {},
   "outputs": [],
   "source": [
    "def find_common_songs(session,other_session):\n",
    "    s1 = set(session.song_id.values)\n",
    "    s2 = set(other_session.song_id.values)\n",
    "    return s1.intersection(s2)"
   ]
  },
  {
   "cell_type": "markdown",
   "id": "f6b494e6-f942-4144-b729-259244150c05",
   "metadata": {},
   "source": [
    "因為sklearn裡面的cosine_similarity是常數計算，為了計算向量之間的餘弦相似度，特別客製化一個函式"
   ]
  },
  {
   "cell_type": "code",
   "execution_count": 17,
   "id": "cfdc1cfe-808f-4e9f-a63f-6cf2a63cfc92",
   "metadata": {},
   "outputs": [],
   "source": [
    "def vec2metrix_cosine_similarity(vec1,vec2):\n",
    "    vec1 = np.mat(vec1)\n",
    "    vec2 = np.mat(vec2)\n",
    "    cos = float(vec1*vec2.T)/(np.linalg.norm(vec1)*np.linalg.norm(vec2))\n",
    "    sim = 0.5 + 0.5*cos\n",
    "    return sim"
   ]
  },
  {
   "cell_type": "markdown",
   "id": "218aa7d6-ffee-4844-8c9e-34cefa740a82",
   "metadata": {},
   "source": [
    "由sessin與其他sessin共同聽過song的id的genre_id去計算兩者的餘弦相似度"
   ]
  },
  {
   "cell_type": "code",
   "execution_count": 19,
   "id": "e59923c2-dedd-42f0-913d-bc3e3d8afa99",
   "metadata": {},
   "outputs": [],
   "source": [
    "def cal_cosine_similarity_from_rating(session,other_session,common_song_id):\n",
    "  session_genre_id = session[sessioin.song_id.isin(common_song_id)].sort_values(by=\"session\")[\"rating\"].values.reshape(1,len(common_song_id))\n",
    "  other_session_genre_id = other_session[other_session.somgid.isin(common_song_id)].sort_values(by=\"session\")[\"rating\"].values.reshape(1,len(common_song_id))\n",
    "  sim = vec2matrix_cosine_similarity(session_genre_id,other_session_genre_id )\n",
    "  return sim\n",
    "\n",
    "def cal_each_user_similarity(session_id):\n",
    "  sessioin_similarity = []\n",
    "  for other_session_id in df.session_id.unique():\n",
    "    if other_session_id == session_id:\n",
    "      continue\n",
    "    session = groups.get_group(session_id)\n",
    "    other_sessioin = groups.get_group(other_session_id)\n",
    "    common_song_id = find_common_songs(session,other_session)\n",
    "    # 避免都無關，common_moviesId = {}\n",
    "    if common_song_id != set():\n",
    "      sim = cal_cosine_similarity_from_rating(session,other_sessin,common_song_id)\n",
    "      user_similarity.append([other_sessin_id,sim])\n",
    "  return user_similarity"
   ]
  },
  {
   "cell_type": "markdown",
   "id": "293936a5-9662-45a0-8c38-4004edf652c6",
   "metadata": {},
   "source": [
    "找出前num數量個相似的session_id"
   ]
  },
  {
   "cell_type": "markdown",
   "id": "0ddddf92-70ca-4b08-b419-d3aa4fbf4cc8",
   "metadata": {},
   "source": [
    "def top_num_similar_users(session_id, num):\n",
    "  session_similarity = cal_each_user_similarity(user_Id)\n",
    "  session_similarity = sorted(user_similarity, key=lambda x: x[1], reverse=True)\n",
    "  similar_session = [x[0] for x in user_similarity][0:num]\n",
    "  return similar_users"
   ]
  },
  {
   "cell_type": "code",
   "execution_count": null,
   "id": "67298bda-7a0e-470a-8bf7-9bdd52213c70",
   "metadata": {},
   "outputs": [],
   "source": [
    "由這些相似的session再找出他們genre_id最高的song作為推薦"
   ]
  },
  {
   "cell_type": "code",
   "execution_count": null,
   "id": "63f14849-2179-4be5-b96f-db29d0443a3a",
   "metadata": {},
   "outputs": [],
   "source": [
    "def recommend(session_Id, num=10):\n",
    "  # 找尋最相近的前num個使用者\n",
    "  similar_users = top_num_similar_users(user_Id, num)\n",
    "  # 欲搜尋的user_Id看過的電影\n",
    "  seen_movies = df.loc[df.userId==user_Id,\"movieId\"].values\n",
    "  # 由其他相似的使用者看過的電影來找出欲搜尋的user_Id沒看過的電影\n",
    "  other_similarUsers_seen_movies = df.loc[df.userId.isin(similar_users),\"movieId\"].values\n",
    "  not_seen_movies = set(other_similarUsers_seen_movies)-set(seen_movies)\n",
    "  # 計算這些沒看過的電影的平均評分\n",
    "  movie_groups = df.loc[df.movieId.isin(not_seen_movies)].groupby('movieId')\n",
    "  top_num_movies = movie_groups.mean().sort_values(by='rating', ascending=False)[:num].index\n",
    "  return df.loc[df.movieId.isin(top_num_movies), \"title\"].unique()\n"
   ]
  },
  {
   "cell_type": "markdown",
   "id": "01c596e4-9900-4319-944b-4a4ef2db08ac",
   "metadata": {},
   "source": [
    "設定想搜尋的session與推薦song的數量num，並透過基於session的偕同過濾法去推薦song"
   ]
  },
  {
   "cell_type": "code",
   "execution_count": 20,
   "id": "3c040fc9-65b3-428c-a077-a57ad70ea423",
   "metadata": {},
   "outputs": [
    {
     "ename": "NameError",
     "evalue": "name 'recommend' is not defined",
     "output_type": "error",
     "traceback": [
      "\u001b[1;31m---------------------------------------------------------------------------\u001b[0m",
      "\u001b[1;31mNameError\u001b[0m                                 Traceback (most recent call last)",
      "Cell \u001b[1;32mIn[20], line 5\u001b[0m\n\u001b[0;32m      2\u001b[0m num \u001b[38;5;241m=\u001b[39m \u001b[38;5;241m10\u001b[39m\n\u001b[0;32m      4\u001b[0m \u001b[38;5;66;03m# 透過協同過濾法推薦給searchUserId前num個電影\u001b[39;00m\n\u001b[1;32m----> 5\u001b[0m recommend_top_num_movies \u001b[38;5;241m=\u001b[39m recommend(searchUserId, num)\n\u001b[0;32m      7\u001b[0m \u001b[38;5;66;03m# 列出推薦名單\u001b[39;00m\n\u001b[0;32m      8\u001b[0m df_recommend_movies \u001b[38;5;241m=\u001b[39m pd\u001b[38;5;241m.\u001b[39mDataFrame({\u001b[38;5;124mf\u001b[39m\u001b[38;5;124m'\u001b[39m\u001b[38;5;124m推薦給[使用者\u001b[39m\u001b[38;5;132;01m{\u001b[39;00msearchUserId\u001b[38;5;132;01m}\u001b[39;00m\u001b[38;5;124m]的前\u001b[39m\u001b[38;5;132;01m{\u001b[39;00mnum\u001b[38;5;132;01m}\u001b[39;00m\u001b[38;5;124m部電影\u001b[39m\u001b[38;5;124m'\u001b[39m:recommend_top_num_movies})\u001b[38;5;241m.\u001b[39mreset_index()\n",
      "\u001b[1;31mNameError\u001b[0m: name 'recommend' is not defined"
     ]
    }
   ],
   "source": [
    "\n",
    "searchUserId = 3\n",
    "num = 10\n",
    "\n",
    "# 透過協同過濾法推薦給searchUserId前num個電影\n",
    "recommend_top_num_movies = recommend(searchUserId, num)\n",
    "\n",
    "# 列出推薦名單\n",
    "df_recommend_movies = pd.DataFrame({f'推薦給[使用者{searchUserId}]的前{num}部電影':recommend_top_num_movies}).reset_index()\n",
    "df_recommend_movies.drop('index',axis=1,inplace=True)\n",
    "df_recommend_movies"
   ]
  },
  {
   "cell_type": "markdown",
   "id": "3061897e-a031-4c1b-bb81-d3ebca13d8fc",
   "metadata": {},
   "source": [
    "---------1209 使用test file--------------------------"
   ]
  },
  {
   "cell_type": "markdown",
   "id": "9e5209f7-12bb-46cc-bc60-da4d78b6ab07",
   "metadata": {},
   "source": [
    "讀取lable_test_source.csv檔，並把session_id當成index_col"
   ]
  },
  {
   "cell_type": "code",
   "execution_count": 4,
   "id": "182f6f9f-bd1e-4d2d-a62d-fdf379151675",
   "metadata": {},
   "outputs": [
    {
     "name": "stdout",
     "output_type": "stream",
     "text": [
      "                                     song_id\n",
      "session_id                                  \n",
      "598         43519381e8351d7c6afcc66bcc0a0636\n",
      "598         928e2e8e316f29efd986fa8d23429431\n",
      "598         5229859624d3b58c35646154cf366bf4\n",
      "598         49e50187f7a7f658623807780f499a15\n",
      "598         bc8b660fe4d4bfa0a13334beae0cb750\n",
      "...                                      ...\n",
      "714498      13d62012feb791ded330b17098230e0d\n",
      "714498      a3f4cb9a06f48f2e9ea381be3afc64b3\n",
      "714498      9bb5e3b8b43fe1e306459c89ab263823\n",
      "714498      e1ec04cca3d78e9e7fd9793ae45d3638\n",
      "714498      d55429b033f1eb4209413810c4a6d693\n",
      "\n",
      "[2861280 rows x 1 columns]\n"
     ]
    }
   ],
   "source": [
    "import pandas as pd\n",
    "df = pd.read_csv('C:/Users/Rebecca/Desktop/KKCompanydata parquest to csv/label_test_source.csv',usecols=[\"session_id\",\"song_id\"],index_col='session_id')\n",
    "print(df)"
   ]
  },
  {
   "cell_type": "code",
   "execution_count": null,
   "id": "18019885-43f1-4089-aeec-3024252b87ff",
   "metadata": {},
   "outputs": [],
   "source": [
    "import pandas as pd\n",
    "df = pd.read_csv('C:/Users/Rebecca/Desktop/KKCompanydata parquest to csv/label_test_source.csv',usecols=[\"session_id\",\"song_id\"],index_col='session_id')\n",
    "print(df)"
   ]
  },
  {
   "cell_type": "markdown",
   "id": "56867fd8-cecb-4a1a-9145-9074b8eb58f0",
   "metadata": {},
   "source": [
    "找每個session前五首歌"
   ]
  },
  {
   "cell_type": "code",
   "execution_count": 9,
   "id": "90b71cc0-e0ae-481c-b8cc-cf35bf2f92bc",
   "metadata": {},
   "outputs": [
    {
     "name": "stdout",
     "output_type": "stream",
     "text": [
      "                                        top1  \\\n",
      "session_id                                     \n",
      "8           4fe73095fc5cc2bd0abeb1897391b166   \n",
      "9           9d438f134d1e172892a10a35d00cd48d   \n",
      "18          43ff50171dcf94f2ad0e775ef1a6c707   \n",
      "19          6c33e2032630dcafde3a4fd5ae196dc2   \n",
      "28          7873629643d3d71732b639e37c381d00   \n",
      "...                                      ...   \n",
      "715299      8a2fc1a4b86c6b79a6186ee6b54d79e0   \n",
      "715308      34af8c382bee0cb49c80aa94a3d832d7   \n",
      "715309      29276b4cac2aa84f4f2d455c813a78d6   \n",
      "715318      0efd7762495301cd884c2ae023b936c6   \n",
      "715319      700a3bbe2b689e2da396bee4daafa4b2   \n",
      "\n",
      "                                        top2  \\\n",
      "session_id                                     \n",
      "8           479a214d596b5bd8608df4d150c638c2   \n",
      "9           4a27803802d6090389507671d8aed6eb   \n",
      "18          66e6cbab82630d69acca2115157fbcba   \n",
      "19          45a351c51fe0d8274f0303266a9e0c7d   \n",
      "28          febdbc34c0543eb8c2106d8831929d4d   \n",
      "...                                      ...   \n",
      "715299      af894be6f2cec95b9de30b0a128c83bd   \n",
      "715308      6450c437918ad8d3801eea51397e2c79   \n",
      "715309      e6929b5368bbf87e8b2154512f5cca3c   \n",
      "715318      e060ad71d29968a35ff18702f1869699   \n",
      "715319      7ce1913e1511f3d77da7a0b32e640604   \n",
      "\n",
      "                                        top3  \\\n",
      "session_id                                     \n",
      "8           7441fc5d0209012e4d8de08f62c4bc81   \n",
      "9           85422f927d88358292985cb319d216fa   \n",
      "18          d4edad8958ec2d009311dc16b933dd1f   \n",
      "19          0834fe236599e7de1f4338176ef19f8b   \n",
      "28          46f3ecd765abff76eb8ebdc906e2741c   \n",
      "...                                      ...   \n",
      "715299      3dbeb7f4350afdacfe4ebbf3d314a6e3   \n",
      "715308      63a645cefb9d38aa0ceb84c43694db72   \n",
      "715309      a7a52a7a815062349d99a8dd20f73a2d   \n",
      "715318      a20728aa7e8122584e8b5863c7d0bc02   \n",
      "715319      bc603ae5839065a50a23592003bf4233   \n",
      "\n",
      "                                        top4                              top5  \n",
      "session_id                                                                      \n",
      "8           87055faec1e473a80e5f3ae078488faa  37219b3dcadaded38b6a9a00df913ce2  \n",
      "9           9d86e8ea4ee237d367bf8bb93323fae3  e07029ed777503e9427e946fcff1bd7b  \n",
      "18          6accb2b1efc3ef2e50c1b893ed84bc97  a0515485a753187bdf21226e4d99b8bb  \n",
      "19          2647c44c2d3e165c112df6fede00431b  24435c26ccf91c095a9554022b90876c  \n",
      "28          48f4d88bfa736ddaf155fcb1452f9c9c  18ba21ec410a9a9fd2b8f7c0787134ea  \n",
      "...                                      ...                               ...  \n",
      "715299      c489727635800ce9fa0a5d9f10db0c52  67682a4ad52115434285d25cdad55a91  \n",
      "715308      b37406bb5350e406ca0f1bde04ea4815  5ed78b739c3450939a3b748af8e8910e  \n",
      "715309      baebeb7b24f2a38032fdc80f37fda507  59c1e8d811b668353368cc6d3955de8a  \n",
      "715318      d8acfb2a57167b75a5b14f95cb376572  b886a3389e430159a794e70fec50fae1  \n",
      "715319      c6cbfaccb4c07120a76da6b9c14e5902  14b087038ee0d59c55ae0a8e6cbbe081  \n",
      "\n",
      "[143064 rows x 5 columns]\n"
     ]
    }
   ],
   "source": [
    "import pandas as pd\n",
    "from collections import Counter\n",
    "\n",
    "# 读取Excel表格\n",
    "df = pd.read_csv('C:/Users/Rebecca/Desktop/KKCompanydata parquest to csv/label_test_source.csv') # 讀原始kkcompany提供的\n",
    "\n",
    "# 将数据按时间点分组\n",
    "grouped_data = df.groupby('session_id')['song_id'].apply(list)\n",
    "\n",
    "# 定義一個函數，用於找到列表中出現最多的五個元素\n",
    "def top_five_numbers(numbers):\n",
    "    counter = Counter(numbers)\n",
    "    top_five = counter.most_common(5)\n",
    "    return [x[0] for x in top_five]\n",
    "    \n",
    "\n",
    "#  找到每個時間點內出現最多的五個數字\n",
    "result = grouped_data.apply(top_five_numbers)\n",
    "\n",
    "# 印出結果\n",
    "#print(result)\n",
    "result_df = pd.DataFrame(result.tolist(), index=result.index,columns=['top1','top2','top3','top4','top5'])\n",
    "print(result_df)\n",
    "result_df.to_csv('C:/Users/Rebecca/Desktop/testfile01.csv') \n",
    "#result.to_csv('C:/Users/Rebecca/Desktop/label_train_source01top1.csv')  # 把結果存檔"
   ]
  },
  {
   "cell_type": "code",
   "execution_count": 13,
   "id": "a66d5ad7-3974-4bd6-9e07-79584e9a0cfc",
   "metadata": {},
   "outputs": [
    {
     "name": "stdout",
     "output_type": "stream",
     "text": [
      "        session_id                              top1  \\\n",
      "0                8  4fe73095fc5cc2bd0abeb1897391b166   \n",
      "1                9  9d438f134d1e172892a10a35d00cd48d   \n",
      "2               18  43ff50171dcf94f2ad0e775ef1a6c707   \n",
      "3               19  6c33e2032630dcafde3a4fd5ae196dc2   \n",
      "4               28  7873629643d3d71732b639e37c381d00   \n",
      "...            ...                               ...   \n",
      "143059      715299  8a2fc1a4b86c6b79a6186ee6b54d79e0   \n",
      "143060      715308  34af8c382bee0cb49c80aa94a3d832d7   \n",
      "143061      715309  29276b4cac2aa84f4f2d455c813a78d6   \n",
      "143062      715318  0efd7762495301cd884c2ae023b936c6   \n",
      "143063      715319  700a3bbe2b689e2da396bee4daafa4b2   \n",
      "\n",
      "                                    top2                              top3  \\\n",
      "0       479a214d596b5bd8608df4d150c638c2  7441fc5d0209012e4d8de08f62c4bc81   \n",
      "1       4a27803802d6090389507671d8aed6eb  85422f927d88358292985cb319d216fa   \n",
      "2       66e6cbab82630d69acca2115157fbcba  d4edad8958ec2d009311dc16b933dd1f   \n",
      "3       45a351c51fe0d8274f0303266a9e0c7d  0834fe236599e7de1f4338176ef19f8b   \n",
      "4       febdbc34c0543eb8c2106d8831929d4d  46f3ecd765abff76eb8ebdc906e2741c   \n",
      "...                                  ...                               ...   \n",
      "143059  af894be6f2cec95b9de30b0a128c83bd  3dbeb7f4350afdacfe4ebbf3d314a6e3   \n",
      "143060  6450c437918ad8d3801eea51397e2c79  63a645cefb9d38aa0ceb84c43694db72   \n",
      "143061  e6929b5368bbf87e8b2154512f5cca3c  a7a52a7a815062349d99a8dd20f73a2d   \n",
      "143062  e060ad71d29968a35ff18702f1869699  a20728aa7e8122584e8b5863c7d0bc02   \n",
      "143063  7ce1913e1511f3d77da7a0b32e640604  bc603ae5839065a50a23592003bf4233   \n",
      "\n",
      "                                    top4                              top5  \n",
      "0       87055faec1e473a80e5f3ae078488faa  37219b3dcadaded38b6a9a00df913ce2  \n",
      "1       9d86e8ea4ee237d367bf8bb93323fae3  e07029ed777503e9427e946fcff1bd7b  \n",
      "2       6accb2b1efc3ef2e50c1b893ed84bc97  a0515485a753187bdf21226e4d99b8bb  \n",
      "3       2647c44c2d3e165c112df6fede00431b  24435c26ccf91c095a9554022b90876c  \n",
      "4       48f4d88bfa736ddaf155fcb1452f9c9c  18ba21ec410a9a9fd2b8f7c0787134ea  \n",
      "...                                  ...                               ...  \n",
      "143059  c489727635800ce9fa0a5d9f10db0c52  67682a4ad52115434285d25cdad55a91  \n",
      "143060  b37406bb5350e406ca0f1bde04ea4815  5ed78b739c3450939a3b748af8e8910e  \n",
      "143061  baebeb7b24f2a38032fdc80f37fda507  59c1e8d811b668353368cc6d3955de8a  \n",
      "143062  d8acfb2a57167b75a5b14f95cb376572  b886a3389e430159a794e70fec50fae1  \n",
      "143063  c6cbfaccb4c07120a76da6b9c14e5902  14b087038ee0d59c55ae0a8e6cbbe081  \n",
      "\n",
      "[143064 rows x 6 columns]\n"
     ]
    }
   ],
   "source": [
    "import pandas as pd\n",
    "\n",
    "# 读取CSV文件\n",
    "df = pd.read_csv('C:/Users/Rebecca/Desktop/testfile01.csv')\n",
    "\n",
    "# 遇到缺值，以該session的top1來補值\n",
    "df.iloc[:, 1:] = df.iloc[:, 1:].apply(lambda row: row.fillna(row.iloc[0]), axis=1)\n",
    "\n",
    "print(df)\n",
    "# 将处理后的数据保存回CSV文件\n",
    "df.to_csv('C:/Users/Rebecca/Desktop/output.csv', index=False)"
   ]
  },
  {
   "cell_type": "markdown",
   "id": "00c0bdd2-153b-4ff8-a5c9-5bf61bb313f9",
   "metadata": {},
   "source": [
    "找出每個sessioin_id的top_1歌曲，是屬於哪一類，做出此excel表\n",
    "output檔是每個session_id的前五首歌"
   ]
  },
  {
   "cell_type": "code",
   "execution_count": 4,
   "id": "71bed1d7-9ba5-41bd-b9c1-434ddc813778",
   "metadata": {},
   "outputs": [
    {
     "name": "stdout",
     "output_type": "stream",
     "text": [
      "        session_id                              top1\n",
      "0                8  4fe73095fc5cc2bd0abeb1897391b166\n",
      "1                9  9d438f134d1e172892a10a35d00cd48d\n",
      "2               18  43ff50171dcf94f2ad0e775ef1a6c707\n",
      "3               19  6c33e2032630dcafde3a4fd5ae196dc2\n",
      "4               28  7873629643d3d71732b639e37c381d00\n",
      "...            ...                               ...\n",
      "143059      715299  8a2fc1a4b86c6b79a6186ee6b54d79e0\n",
      "143060      715308  34af8c382bee0cb49c80aa94a3d832d7\n",
      "143061      715309  29276b4cac2aa84f4f2d455c813a78d6\n",
      "143062      715318  0efd7762495301cd884c2ae023b936c6\n",
      "143063      715319  700a3bbe2b689e2da396bee4daafa4b2\n",
      "\n",
      "[143064 rows x 2 columns]\n"
     ]
    }
   ],
   "source": [
    "import pandas as pd\n",
    "df = pd.read_csv('C:/Users/Rebecca/Desktop/output.csv',usecols=[\"session_id\",\"top1\"])\n",
    "print(df)\n",
    "df.to_csv('C:/Users/Rebecca/Desktop/onlytop1.csv', index=False)"
   ]
  },
  {
   "cell_type": "markdown",
   "id": "a3003237-02db-4402-9fd3-2160c841fc74",
   "metadata": {},
   "source": [
    "只留session_id和song_id"
   ]
  },
  {
   "cell_type": "code",
   "execution_count": 9,
   "id": "fa6e75be-8b7c-4755-abb5-e386d122e4aa",
   "metadata": {},
   "outputs": [
    {
     "name": "stdout",
     "output_type": "stream",
     "text": [
      "         session_id                           song_id\n",
      "0               598  43519381e8351d7c6afcc66bcc0a0636\n",
      "1               598  928e2e8e316f29efd986fa8d23429431\n",
      "2               598  5229859624d3b58c35646154cf366bf4\n",
      "3               598  49e50187f7a7f658623807780f499a15\n",
      "4               598  bc8b660fe4d4bfa0a13334beae0cb750\n",
      "...             ...                               ...\n",
      "2861275      714498  13d62012feb791ded330b17098230e0d\n",
      "2861276      714498  a3f4cb9a06f48f2e9ea381be3afc64b3\n",
      "2861277      714498  9bb5e3b8b43fe1e306459c89ab263823\n",
      "2861278      714498  e1ec04cca3d78e9e7fd9793ae45d3638\n",
      "2861279      714498  d55429b033f1eb4209413810c4a6d693\n",
      "\n",
      "[2861280 rows x 2 columns]\n"
     ]
    }
   ],
   "source": [
    "import pandas as pd\n",
    "df = pd.read_csv('C:/Users/Rebecca/Desktop/KKCompanydata parquest to csv/label_test_source.csv',usecols=[\"session_id\",\"song_id\"])\n",
    "print(df)\n",
    "df.to_csv('C:/Users/Rebecca/Desktop/sessionandsong.csv', index=False)"
   ]
  },
  {
   "cell_type": "markdown",
   "id": "f55c17a9-dc98-48f7-993e-3daf5a1646b0",
   "metadata": {},
   "source": [
    "找出每個song_id屬於哪一個genre(種類)"
   ]
  },
  {
   "cell_type": "code",
   "execution_count": 12,
   "id": "5d2a519c-3e54-43e1-b5c9-a33436efbfa2",
   "metadata": {},
   "outputs": [
    {
     "data": {
      "text/html": [
       "<div>\n",
       "<style scoped>\n",
       "    .dataframe tbody tr th:only-of-type {\n",
       "        vertical-align: middle;\n",
       "    }\n",
       "\n",
       "    .dataframe tbody tr th {\n",
       "        vertical-align: top;\n",
       "    }\n",
       "\n",
       "    .dataframe thead th {\n",
       "        text-align: right;\n",
       "    }\n",
       "</style>\n",
       "<table border=\"1\" class=\"dataframe\">\n",
       "  <thead>\n",
       "    <tr style=\"text-align: right;\">\n",
       "      <th></th>\n",
       "      <th>session_id</th>\n",
       "      <th>song_id</th>\n",
       "    </tr>\n",
       "  </thead>\n",
       "  <tbody>\n",
       "    <tr>\n",
       "      <th>0</th>\n",
       "      <td>598</td>\n",
       "      <td>43519381e8351d7c6afcc66bcc0a0636</td>\n",
       "    </tr>\n",
       "    <tr>\n",
       "      <th>1</th>\n",
       "      <td>598</td>\n",
       "      <td>928e2e8e316f29efd986fa8d23429431</td>\n",
       "    </tr>\n",
       "    <tr>\n",
       "      <th>2</th>\n",
       "      <td>598</td>\n",
       "      <td>5229859624d3b58c35646154cf366bf4</td>\n",
       "    </tr>\n",
       "    <tr>\n",
       "      <th>3</th>\n",
       "      <td>598</td>\n",
       "      <td>49e50187f7a7f658623807780f499a15</td>\n",
       "    </tr>\n",
       "    <tr>\n",
       "      <th>4</th>\n",
       "      <td>598</td>\n",
       "      <td>bc8b660fe4d4bfa0a13334beae0cb750</td>\n",
       "    </tr>\n",
       "  </tbody>\n",
       "</table>\n",
       "</div>"
      ],
      "text/plain": [
       "   session_id                           song_id\n",
       "0         598  43519381e8351d7c6afcc66bcc0a0636\n",
       "1         598  928e2e8e316f29efd986fa8d23429431\n",
       "2         598  5229859624d3b58c35646154cf366bf4\n",
       "3         598  49e50187f7a7f658623807780f499a15\n",
       "4         598  bc8b660fe4d4bfa0a13334beae0cb750"
      ]
     },
     "metadata": {},
     "output_type": "display_data"
    },
    {
     "data": {
      "text/html": [
       "<div>\n",
       "<style scoped>\n",
       "    .dataframe tbody tr th:only-of-type {\n",
       "        vertical-align: middle;\n",
       "    }\n",
       "\n",
       "    .dataframe tbody tr th {\n",
       "        vertical-align: top;\n",
       "    }\n",
       "\n",
       "    .dataframe thead th {\n",
       "        text-align: right;\n",
       "    }\n",
       "</style>\n",
       "<table border=\"1\" class=\"dataframe\">\n",
       "  <thead>\n",
       "    <tr style=\"text-align: right;\">\n",
       "      <th></th>\n",
       "      <th>Unnamed: 0</th>\n",
       "      <th>song_id</th>\n",
       "      <th>genre_id</th>\n",
       "    </tr>\n",
       "  </thead>\n",
       "  <tbody>\n",
       "    <tr>\n",
       "      <th>0</th>\n",
       "      <td>0</td>\n",
       "      <td>7366ba2acd92eb262191bdaedf249462</td>\n",
       "      <td>b856b6781d370a3645c6dde0c20b3597</td>\n",
       "    </tr>\n",
       "    <tr>\n",
       "      <th>1</th>\n",
       "      <td>1</td>\n",
       "      <td>0b016dad8634acec9d9156d75c3ca568</td>\n",
       "      <td>2eabe9f164346c7b3ff1bd23078f483e</td>\n",
       "    </tr>\n",
       "    <tr>\n",
       "      <th>2</th>\n",
       "      <td>2</td>\n",
       "      <td>0145eadf202d4c7305aec592f7b9a50b</td>\n",
       "      <td>bb3d7b04b67d5aeb5ab145bdd70750da</td>\n",
       "    </tr>\n",
       "    <tr>\n",
       "      <th>3</th>\n",
       "      <td>3</td>\n",
       "      <td>7380f3306b88887be62fabdfc18925c9</td>\n",
       "      <td>b856b6781d370a3645c6dde0c20b3597</td>\n",
       "    </tr>\n",
       "    <tr>\n",
       "      <th>4</th>\n",
       "      <td>4</td>\n",
       "      <td>0006518b7b5daceacc4acf0c3f2843b8</td>\n",
       "      <td>2eabe9f164346c7b3ff1bd23078f483e</td>\n",
       "    </tr>\n",
       "  </tbody>\n",
       "</table>\n",
       "</div>"
      ],
      "text/plain": [
       "   Unnamed: 0                           song_id  \\\n",
       "0           0  7366ba2acd92eb262191bdaedf249462   \n",
       "1           1  0b016dad8634acec9d9156d75c3ca568   \n",
       "2           2  0145eadf202d4c7305aec592f7b9a50b   \n",
       "3           3  7380f3306b88887be62fabdfc18925c9   \n",
       "4           4  0006518b7b5daceacc4acf0c3f2843b8   \n",
       "\n",
       "                           genre_id  \n",
       "0  b856b6781d370a3645c6dde0c20b3597  \n",
       "1  2eabe9f164346c7b3ff1bd23078f483e  \n",
       "2  bb3d7b04b67d5aeb5ab145bdd70750da  \n",
       "3  b856b6781d370a3645c6dde0c20b3597  \n",
       "4  2eabe9f164346c7b3ff1bd23078f483e  "
      ]
     },
     "metadata": {},
     "output_type": "display_data"
    }
   ],
   "source": [
    "session = pd.read_csv('C:/Users/Rebecca/Desktop/sessionandsong.csv')\n",
    "genre = pd.read_csv('C:/Users/Rebecca/Desktop/KKCompanydata parquest to csv/meta_song_genre.csv')\n",
    "display(session.head())\n",
    "display(genre.head())"
   ]
  },
  {
   "cell_type": "markdown",
   "id": "0f71d00c-a06d-4e4b-942d-582418984dc9",
   "metadata": {},
   "source": [
    "讀取meta_song的檔案。做一些處理"
   ]
  },
  {
   "cell_type": "code",
   "execution_count": 13,
   "id": "2b3b05e8-e4dc-42e5-982e-b3fc76f6c86e",
   "metadata": {},
   "outputs": [
    {
     "name": "stdout",
     "output_type": "stream",
     "text": [
      "                                                          genre_id\n",
      "song_id                                                           \n",
      "7366ba2acd92eb262191bdaedf249462  b856b6781d370a3645c6dde0c20b3597\n",
      "0b016dad8634acec9d9156d75c3ca568  2eabe9f164346c7b3ff1bd23078f483e\n",
      "0145eadf202d4c7305aec592f7b9a50b  bb3d7b04b67d5aeb5ab145bdd70750da\n",
      "7380f3306b88887be62fabdfc18925c9  b856b6781d370a3645c6dde0c20b3597\n",
      "0006518b7b5daceacc4acf0c3f2843b8  2eabe9f164346c7b3ff1bd23078f483e\n",
      "...                                                            ...\n",
      "fae89ce7d4c4afe996b82ba0f14cd024  65aeeca3341ca1c6a2ed774aa4e22add\n",
      "6ae20625078e15fdbe516c6f03fb7521  1d7c8bb87dcc1457ed90240c06f9ebdf\n",
      "16ce1c2ec0f86418f9b37a45d7a7f1d0  b856b6781d370a3645c6dde0c20b3597\n",
      "82c57ad358fa3bbf71080b53588dc6cb  6ea61b86b8fff0e3a05bc73ea4eaf21f\n",
      "2e3f90811704ea00c940ca66c3121b3c  6ea61b86b8fff0e3a05bc73ea4eaf21f\n",
      "\n",
      "[1161955 rows x 1 columns]\n"
     ]
    }
   ],
   "source": [
    "import pandas as pd\n",
    "df = pd.read_csv('C:/Users/Rebecca/Desktop/KKCompanydata parquest to csv/meta_song_genre.csv',usecols=[\"song_id\",\"genre_id\"],index_col='song_id')\n",
    "print(df)\n",
    "df.to_csv('C:/Users/Rebecca/Desktop/meta_song_genre01.csv')"
   ]
  },
  {
   "cell_type": "markdown",
   "id": "8c4d89f8-f6c6-492c-9818-bd60336d67ab",
   "metadata": {},
   "source": [
    "取每個session_id的top1出來"
   ]
  },
  {
   "cell_type": "code",
   "execution_count": 18,
   "id": "eef4aa66-1c12-4f48-b916-29ef99446b30",
   "metadata": {},
   "outputs": [
    {
     "name": "stdout",
     "output_type": "stream",
     "text": [
      "                                        top1\n",
      "session_id                                  \n",
      "8           4fe73095fc5cc2bd0abeb1897391b166\n",
      "9           9d438f134d1e172892a10a35d00cd48d\n",
      "18          43ff50171dcf94f2ad0e775ef1a6c707\n",
      "19          6c33e2032630dcafde3a4fd5ae196dc2\n",
      "28          7873629643d3d71732b639e37c381d00\n",
      "...                                      ...\n",
      "715299      8a2fc1a4b86c6b79a6186ee6b54d79e0\n",
      "715308      34af8c382bee0cb49c80aa94a3d832d7\n",
      "715309      29276b4cac2aa84f4f2d455c813a78d6\n",
      "715318      0efd7762495301cd884c2ae023b936c6\n",
      "715319      700a3bbe2b689e2da396bee4daafa4b2\n",
      "\n",
      "[143064 rows x 1 columns]\n"
     ]
    }
   ],
   "source": [
    "import pandas as pd\n",
    "df = pd.read_csv(\"C:/Users/Rebecca/Desktop/output.csv\",usecols=[\"session_id\",\"top1\"],index_col='session_id')\n",
    "print(df)\n",
    "df.to_csv(\"C:/Users/Rebecca/Desktop/sessiontop1.csv\")"
   ]
  },
  {
   "cell_type": "markdown",
   "id": "2cecd562-9002-418d-8f58-a2225aa107ac",
   "metadata": {},
   "source": [
    "每個session_id的top1歌，屬於哪一個類別。merge兩個資料夾"
   ]
  },
  {
   "cell_type": "code",
   "execution_count": 43,
   "id": "48df6742-86f5-4741-9a62-750c6db4196a",
   "metadata": {},
   "outputs": [
    {
     "data": {
      "text/html": [
       "<div>\n",
       "<style scoped>\n",
       "    .dataframe tbody tr th:only-of-type {\n",
       "        vertical-align: middle;\n",
       "    }\n",
       "\n",
       "    .dataframe tbody tr th {\n",
       "        vertical-align: top;\n",
       "    }\n",
       "\n",
       "    .dataframe thead th {\n",
       "        text-align: right;\n",
       "    }\n",
       "</style>\n",
       "<table border=\"1\" class=\"dataframe\">\n",
       "  <thead>\n",
       "    <tr style=\"text-align: right;\">\n",
       "      <th></th>\n",
       "      <th>session_id</th>\n",
       "      <th>song_id</th>\n",
       "    </tr>\n",
       "  </thead>\n",
       "  <tbody>\n",
       "    <tr>\n",
       "      <th>0</th>\n",
       "      <td>8</td>\n",
       "      <td>4fe73095fc5cc2bd0abeb1897391b166</td>\n",
       "    </tr>\n",
       "    <tr>\n",
       "      <th>1</th>\n",
       "      <td>9</td>\n",
       "      <td>9d438f134d1e172892a10a35d00cd48d</td>\n",
       "    </tr>\n",
       "    <tr>\n",
       "      <th>2</th>\n",
       "      <td>18</td>\n",
       "      <td>43ff50171dcf94f2ad0e775ef1a6c707</td>\n",
       "    </tr>\n",
       "    <tr>\n",
       "      <th>3</th>\n",
       "      <td>19</td>\n",
       "      <td>6c33e2032630dcafde3a4fd5ae196dc2</td>\n",
       "    </tr>\n",
       "    <tr>\n",
       "      <th>4</th>\n",
       "      <td>28</td>\n",
       "      <td>7873629643d3d71732b639e37c381d00</td>\n",
       "    </tr>\n",
       "  </tbody>\n",
       "</table>\n",
       "</div>"
      ],
      "text/plain": [
       "   session_id                           song_id\n",
       "0           8  4fe73095fc5cc2bd0abeb1897391b166\n",
       "1           9  9d438f134d1e172892a10a35d00cd48d\n",
       "2          18  43ff50171dcf94f2ad0e775ef1a6c707\n",
       "3          19  6c33e2032630dcafde3a4fd5ae196dc2\n",
       "4          28  7873629643d3d71732b639e37c381d00"
      ]
     },
     "metadata": {},
     "output_type": "display_data"
    },
    {
     "data": {
      "text/html": [
       "<div>\n",
       "<style scoped>\n",
       "    .dataframe tbody tr th:only-of-type {\n",
       "        vertical-align: middle;\n",
       "    }\n",
       "\n",
       "    .dataframe tbody tr th {\n",
       "        vertical-align: top;\n",
       "    }\n",
       "\n",
       "    .dataframe thead th {\n",
       "        text-align: right;\n",
       "    }\n",
       "</style>\n",
       "<table border=\"1\" class=\"dataframe\">\n",
       "  <thead>\n",
       "    <tr style=\"text-align: right;\">\n",
       "      <th></th>\n",
       "      <th>song_id</th>\n",
       "      <th>genre_id</th>\n",
       "    </tr>\n",
       "  </thead>\n",
       "  <tbody>\n",
       "    <tr>\n",
       "      <th>0</th>\n",
       "      <td>7366ba2acd92eb262191bdaedf249462</td>\n",
       "      <td>b856b6781d370a3645c6dde0c20b3597</td>\n",
       "    </tr>\n",
       "    <tr>\n",
       "      <th>1</th>\n",
       "      <td>0b016dad8634acec9d9156d75c3ca568</td>\n",
       "      <td>2eabe9f164346c7b3ff1bd23078f483e</td>\n",
       "    </tr>\n",
       "    <tr>\n",
       "      <th>2</th>\n",
       "      <td>0145eadf202d4c7305aec592f7b9a50b</td>\n",
       "      <td>bb3d7b04b67d5aeb5ab145bdd70750da</td>\n",
       "    </tr>\n",
       "    <tr>\n",
       "      <th>3</th>\n",
       "      <td>7380f3306b88887be62fabdfc18925c9</td>\n",
       "      <td>b856b6781d370a3645c6dde0c20b3597</td>\n",
       "    </tr>\n",
       "    <tr>\n",
       "      <th>4</th>\n",
       "      <td>0006518b7b5daceacc4acf0c3f2843b8</td>\n",
       "      <td>2eabe9f164346c7b3ff1bd23078f483e</td>\n",
       "    </tr>\n",
       "  </tbody>\n",
       "</table>\n",
       "</div>"
      ],
      "text/plain": [
       "                            song_id                          genre_id\n",
       "0  7366ba2acd92eb262191bdaedf249462  b856b6781d370a3645c6dde0c20b3597\n",
       "1  0b016dad8634acec9d9156d75c3ca568  2eabe9f164346c7b3ff1bd23078f483e\n",
       "2  0145eadf202d4c7305aec592f7b9a50b  bb3d7b04b67d5aeb5ab145bdd70750da\n",
       "3  7380f3306b88887be62fabdfc18925c9  b856b6781d370a3645c6dde0c20b3597\n",
       "4  0006518b7b5daceacc4acf0c3f2843b8  2eabe9f164346c7b3ff1bd23078f483e"
      ]
     },
     "metadata": {},
     "output_type": "display_data"
    },
    {
     "data": {
      "text/html": [
       "<div>\n",
       "<style scoped>\n",
       "    .dataframe tbody tr th:only-of-type {\n",
       "        vertical-align: middle;\n",
       "    }\n",
       "\n",
       "    .dataframe tbody tr th {\n",
       "        vertical-align: top;\n",
       "    }\n",
       "\n",
       "    .dataframe thead th {\n",
       "        text-align: right;\n",
       "    }\n",
       "</style>\n",
       "<table border=\"1\" class=\"dataframe\">\n",
       "  <thead>\n",
       "    <tr style=\"text-align: right;\">\n",
       "      <th></th>\n",
       "      <th>session_id</th>\n",
       "      <th>song_id</th>\n",
       "      <th>genre_id</th>\n",
       "    </tr>\n",
       "  </thead>\n",
       "  <tbody>\n",
       "    <tr>\n",
       "      <th>0</th>\n",
       "      <td>8</td>\n",
       "      <td>4fe73095fc5cc2bd0abeb1897391b166</td>\n",
       "      <td>b856b6781d370a3645c6dde0c20b3597</td>\n",
       "    </tr>\n",
       "    <tr>\n",
       "      <th>1</th>\n",
       "      <td>8</td>\n",
       "      <td>4fe73095fc5cc2bd0abeb1897391b166</td>\n",
       "      <td>ce4db56f6a48426643b08038139a8a75</td>\n",
       "    </tr>\n",
       "    <tr>\n",
       "      <th>2</th>\n",
       "      <td>9</td>\n",
       "      <td>9d438f134d1e172892a10a35d00cd48d</td>\n",
       "      <td>NaN</td>\n",
       "    </tr>\n",
       "    <tr>\n",
       "      <th>3</th>\n",
       "      <td>18</td>\n",
       "      <td>43ff50171dcf94f2ad0e775ef1a6c707</td>\n",
       "      <td>b856b6781d370a3645c6dde0c20b3597</td>\n",
       "    </tr>\n",
       "    <tr>\n",
       "      <th>4</th>\n",
       "      <td>18</td>\n",
       "      <td>43ff50171dcf94f2ad0e775ef1a6c707</td>\n",
       "      <td>6ea61b86b8fff0e3a05bc73ea4eaf21f</td>\n",
       "    </tr>\n",
       "    <tr>\n",
       "      <th>...</th>\n",
       "      <td>...</td>\n",
       "      <td>...</td>\n",
       "      <td>...</td>\n",
       "    </tr>\n",
       "    <tr>\n",
       "      <th>203287</th>\n",
       "      <td>715308</td>\n",
       "      <td>34af8c382bee0cb49c80aa94a3d832d7</td>\n",
       "      <td>b856b6781d370a3645c6dde0c20b3597</td>\n",
       "    </tr>\n",
       "    <tr>\n",
       "      <th>203288</th>\n",
       "      <td>715309</td>\n",
       "      <td>29276b4cac2aa84f4f2d455c813a78d6</td>\n",
       "      <td>2eabe9f164346c7b3ff1bd23078f483e</td>\n",
       "    </tr>\n",
       "    <tr>\n",
       "      <th>203289</th>\n",
       "      <td>715309</td>\n",
       "      <td>29276b4cac2aa84f4f2d455c813a78d6</td>\n",
       "      <td>43244ec4c30a0dad837d982892bc0c05</td>\n",
       "    </tr>\n",
       "    <tr>\n",
       "      <th>203290</th>\n",
       "      <td>715318</td>\n",
       "      <td>0efd7762495301cd884c2ae023b936c6</td>\n",
       "      <td>NaN</td>\n",
       "    </tr>\n",
       "    <tr>\n",
       "      <th>203291</th>\n",
       "      <td>715319</td>\n",
       "      <td>700a3bbe2b689e2da396bee4daafa4b2</td>\n",
       "      <td>ce4db56f6a48426643b08038139a8a75</td>\n",
       "    </tr>\n",
       "  </tbody>\n",
       "</table>\n",
       "<p>203292 rows × 3 columns</p>\n",
       "</div>"
      ],
      "text/plain": [
       "        session_id                           song_id  \\\n",
       "0                8  4fe73095fc5cc2bd0abeb1897391b166   \n",
       "1                8  4fe73095fc5cc2bd0abeb1897391b166   \n",
       "2                9  9d438f134d1e172892a10a35d00cd48d   \n",
       "3               18  43ff50171dcf94f2ad0e775ef1a6c707   \n",
       "4               18  43ff50171dcf94f2ad0e775ef1a6c707   \n",
       "...            ...                               ...   \n",
       "203287      715308  34af8c382bee0cb49c80aa94a3d832d7   \n",
       "203288      715309  29276b4cac2aa84f4f2d455c813a78d6   \n",
       "203289      715309  29276b4cac2aa84f4f2d455c813a78d6   \n",
       "203290      715318  0efd7762495301cd884c2ae023b936c6   \n",
       "203291      715319  700a3bbe2b689e2da396bee4daafa4b2   \n",
       "\n",
       "                                genre_id  \n",
       "0       b856b6781d370a3645c6dde0c20b3597  \n",
       "1       ce4db56f6a48426643b08038139a8a75  \n",
       "2                                    NaN  \n",
       "3       b856b6781d370a3645c6dde0c20b3597  \n",
       "4       6ea61b86b8fff0e3a05bc73ea4eaf21f  \n",
       "...                                  ...  \n",
       "203287  b856b6781d370a3645c6dde0c20b3597  \n",
       "203288  2eabe9f164346c7b3ff1bd23078f483e  \n",
       "203289  43244ec4c30a0dad837d982892bc0c05  \n",
       "203290                               NaN  \n",
       "203291  ce4db56f6a48426643b08038139a8a75  \n",
       "\n",
       "[203292 rows x 3 columns]"
      ]
     },
     "execution_count": 43,
     "metadata": {},
     "output_type": "execute_result"
    }
   ],
   "source": [
    "import pandas as pd\n",
    "onlytop1 = pd.read_csv('C:/Users/Rebecca/Desktop/onlytop1changesession.csv')   #讀取第1個excel\n",
    "genre = pd.read_csv('C:/Users/Rebecca/Desktop/meta_song_genre01.csv')       # 讀取第2個excel\n",
    "#display(onlytop1.head())\n",
    "#display(genre.head())\n",
    "data = pd.merge(onlytop1,genre,on='song_id',how='left')\n",
    "data\n",
    "#data.to_csv('C:/Users/Rebecca/Desktop/test.csv')\n"
   ]
  },
  {
   "cell_type": "markdown",
   "id": "76951014-c72d-439a-8412-df30ac8117e8",
   "metadata": {},
   "source": [
    "把onlytop1的top1欄位改成song_id。並儲存成onlytop1changesession檔案"
   ]
  },
  {
   "cell_type": "code",
   "execution_count": 35,
   "id": "c06e9b0f-1f73-4ea5-bbdc-22eeb53f5d83",
   "metadata": {},
   "outputs": [
    {
     "name": "stdout",
     "output_type": "stream",
     "text": [
      "        session_id                           song_id\n",
      "0                8  4fe73095fc5cc2bd0abeb1897391b166\n",
      "1                9  9d438f134d1e172892a10a35d00cd48d\n",
      "2               18  43ff50171dcf94f2ad0e775ef1a6c707\n",
      "3               19  6c33e2032630dcafde3a4fd5ae196dc2\n",
      "4               28  7873629643d3d71732b639e37c381d00\n",
      "...            ...                               ...\n",
      "143059      715299  8a2fc1a4b86c6b79a6186ee6b54d79e0\n",
      "143060      715308  34af8c382bee0cb49c80aa94a3d832d7\n",
      "143061      715309  29276b4cac2aa84f4f2d455c813a78d6\n",
      "143062      715318  0efd7762495301cd884c2ae023b936c6\n",
      "143063      715319  700a3bbe2b689e2da396bee4daafa4b2\n",
      "\n",
      "[143064 rows x 2 columns]\n"
     ]
    }
   ],
   "source": [
    "import pandas as pd\n",
    "\n",
    "# 讀取 Excel 檔案\n",
    "csv_file_path = 'C:/Users/Rebecca/Desktop/onlytop1.csv'  # 請替換成你的 Excel 檔案路徑\n",
    "df = pd.read_csv(csv_file_path,engine='python')\n",
    "\n",
    "# 修改欄位名稱\n",
    "new_column_names = ['session_id', 'song_id']\n",
    "df.columns = new_column_names\n",
    "print(df)\n",
    "\n",
    "df.to_csv('C:/Users/Rebecca/Desktop/onlytop1changesession.csv', index=False)\n"
   ]
  },
  {
   "cell_type": "markdown",
   "id": "9400ed88-baaa-43b9-9e79-aacd03fed739",
   "metadata": {},
   "source": [
    "合併兩個檔案，刪除重複欄位"
   ]
  },
  {
   "cell_type": "code",
   "execution_count": 12,
   "id": "07ee7f72-9d85-4311-bbfe-e3bb9d400af7",
   "metadata": {},
   "outputs": [
    {
     "ename": "ValueError",
     "evalue": "invalid literal for int() with base 10: 'b856b6781d370a3645c6dde0c20b3597'",
     "output_type": "error",
     "traceback": [
      "\u001b[1;31m---------------------------------------------------------------------------\u001b[0m",
      "\u001b[1;31mValueError\u001b[0m                                Traceback (most recent call last)",
      "Cell \u001b[1;32mIn[12], line 11\u001b[0m\n\u001b[0;32m      8\u001b[0m top1\u001b[38;5;241m.\u001b[39mreset_index(inplace\u001b[38;5;241m=\u001b[39m\u001b[38;5;28;01mTrue\u001b[39;00m)\n\u001b[0;32m     10\u001b[0m \u001b[38;5;66;03m# 將 'genre_id' 列轉換為 int64 類型\u001b[39;00m\n\u001b[1;32m---> 11\u001b[0m top1[\u001b[38;5;124m'\u001b[39m\u001b[38;5;124mgenre_id\u001b[39m\u001b[38;5;124m'\u001b[39m] \u001b[38;5;241m=\u001b[39m top1[\u001b[38;5;124m'\u001b[39m\u001b[38;5;124mgenre_id\u001b[39m\u001b[38;5;124m'\u001b[39m]\u001b[38;5;241m.\u001b[39mastype(\u001b[38;5;124m'\u001b[39m\u001b[38;5;124mint64\u001b[39m\u001b[38;5;124m'\u001b[39m)\n\u001b[0;32m     12\u001b[0m data \u001b[38;5;241m=\u001b[39m pd\u001b[38;5;241m.\u001b[39mmerge(session,top1,how\u001b[38;5;241m=\u001b[39m\u001b[38;5;124m'\u001b[39m\u001b[38;5;124mleft\u001b[39m\u001b[38;5;124m'\u001b[39m, left_on\u001b[38;5;241m=\u001b[39m\u001b[38;5;124m'\u001b[39m\u001b[38;5;124msession_id\u001b[39m\u001b[38;5;124m'\u001b[39m,right_on\u001b[38;5;241m=\u001b[39m\u001b[38;5;124m'\u001b[39m\u001b[38;5;124mgenre_id\u001b[39m\u001b[38;5;124m'\u001b[39m, left_index \u001b[38;5;241m=\u001b[39m \u001b[38;5;28;01mTrue\u001b[39;00m)\n\u001b[0;32m     13\u001b[0m \u001b[38;5;66;03m#print(data)\u001b[39;00m\n",
      "File \u001b[1;32m~\\anaconda3\\envs\\practice\\Lib\\site-packages\\pandas\\core\\generic.py:6534\u001b[0m, in \u001b[0;36mNDFrame.astype\u001b[1;34m(self, dtype, copy, errors)\u001b[0m\n\u001b[0;32m   6530\u001b[0m     results \u001b[38;5;241m=\u001b[39m [ser\u001b[38;5;241m.\u001b[39mastype(dtype, copy\u001b[38;5;241m=\u001b[39mcopy) \u001b[38;5;28;01mfor\u001b[39;00m _, ser \u001b[38;5;129;01min\u001b[39;00m \u001b[38;5;28mself\u001b[39m\u001b[38;5;241m.\u001b[39mitems()]\n\u001b[0;32m   6532\u001b[0m \u001b[38;5;28;01melse\u001b[39;00m:\n\u001b[0;32m   6533\u001b[0m     \u001b[38;5;66;03m# else, only a single dtype is given\u001b[39;00m\n\u001b[1;32m-> 6534\u001b[0m     new_data \u001b[38;5;241m=\u001b[39m \u001b[38;5;28mself\u001b[39m\u001b[38;5;241m.\u001b[39m_mgr\u001b[38;5;241m.\u001b[39mastype(dtype\u001b[38;5;241m=\u001b[39mdtype, copy\u001b[38;5;241m=\u001b[39mcopy, errors\u001b[38;5;241m=\u001b[39merrors)\n\u001b[0;32m   6535\u001b[0m     res \u001b[38;5;241m=\u001b[39m \u001b[38;5;28mself\u001b[39m\u001b[38;5;241m.\u001b[39m_constructor_from_mgr(new_data, axes\u001b[38;5;241m=\u001b[39mnew_data\u001b[38;5;241m.\u001b[39maxes)\n\u001b[0;32m   6536\u001b[0m     \u001b[38;5;28;01mreturn\u001b[39;00m res\u001b[38;5;241m.\u001b[39m__finalize__(\u001b[38;5;28mself\u001b[39m, method\u001b[38;5;241m=\u001b[39m\u001b[38;5;124m\"\u001b[39m\u001b[38;5;124mastype\u001b[39m\u001b[38;5;124m\"\u001b[39m)\n",
      "File \u001b[1;32m~\\anaconda3\\envs\\practice\\Lib\\site-packages\\pandas\\core\\internals\\managers.py:414\u001b[0m, in \u001b[0;36mBaseBlockManager.astype\u001b[1;34m(self, dtype, copy, errors)\u001b[0m\n\u001b[0;32m    411\u001b[0m \u001b[38;5;28;01melif\u001b[39;00m using_copy_on_write():\n\u001b[0;32m    412\u001b[0m     copy \u001b[38;5;241m=\u001b[39m \u001b[38;5;28;01mFalse\u001b[39;00m\n\u001b[1;32m--> 414\u001b[0m \u001b[38;5;28;01mreturn\u001b[39;00m \u001b[38;5;28mself\u001b[39m\u001b[38;5;241m.\u001b[39mapply(\n\u001b[0;32m    415\u001b[0m     \u001b[38;5;124m\"\u001b[39m\u001b[38;5;124mastype\u001b[39m\u001b[38;5;124m\"\u001b[39m,\n\u001b[0;32m    416\u001b[0m     dtype\u001b[38;5;241m=\u001b[39mdtype,\n\u001b[0;32m    417\u001b[0m     copy\u001b[38;5;241m=\u001b[39mcopy,\n\u001b[0;32m    418\u001b[0m     errors\u001b[38;5;241m=\u001b[39merrors,\n\u001b[0;32m    419\u001b[0m     using_cow\u001b[38;5;241m=\u001b[39musing_copy_on_write(),\n\u001b[0;32m    420\u001b[0m )\n",
      "File \u001b[1;32m~\\anaconda3\\envs\\practice\\Lib\\site-packages\\pandas\\core\\internals\\managers.py:354\u001b[0m, in \u001b[0;36mBaseBlockManager.apply\u001b[1;34m(self, f, align_keys, **kwargs)\u001b[0m\n\u001b[0;32m    352\u001b[0m         applied \u001b[38;5;241m=\u001b[39m b\u001b[38;5;241m.\u001b[39mapply(f, \u001b[38;5;241m*\u001b[39m\u001b[38;5;241m*\u001b[39mkwargs)\n\u001b[0;32m    353\u001b[0m     \u001b[38;5;28;01melse\u001b[39;00m:\n\u001b[1;32m--> 354\u001b[0m         applied \u001b[38;5;241m=\u001b[39m \u001b[38;5;28mgetattr\u001b[39m(b, f)(\u001b[38;5;241m*\u001b[39m\u001b[38;5;241m*\u001b[39mkwargs)\n\u001b[0;32m    355\u001b[0m     result_blocks \u001b[38;5;241m=\u001b[39m extend_blocks(applied, result_blocks)\n\u001b[0;32m    357\u001b[0m out \u001b[38;5;241m=\u001b[39m \u001b[38;5;28mtype\u001b[39m(\u001b[38;5;28mself\u001b[39m)\u001b[38;5;241m.\u001b[39mfrom_blocks(result_blocks, \u001b[38;5;28mself\u001b[39m\u001b[38;5;241m.\u001b[39maxes)\n",
      "File \u001b[1;32m~\\anaconda3\\envs\\practice\\Lib\\site-packages\\pandas\\core\\internals\\blocks.py:616\u001b[0m, in \u001b[0;36mBlock.astype\u001b[1;34m(self, dtype, copy, errors, using_cow)\u001b[0m\n\u001b[0;32m    596\u001b[0m \u001b[38;5;250m\u001b[39m\u001b[38;5;124;03m\"\"\"\u001b[39;00m\n\u001b[0;32m    597\u001b[0m \u001b[38;5;124;03mCoerce to the new dtype.\u001b[39;00m\n\u001b[0;32m    598\u001b[0m \n\u001b[1;32m   (...)\u001b[0m\n\u001b[0;32m    612\u001b[0m \u001b[38;5;124;03mBlock\u001b[39;00m\n\u001b[0;32m    613\u001b[0m \u001b[38;5;124;03m\"\"\"\u001b[39;00m\n\u001b[0;32m    614\u001b[0m values \u001b[38;5;241m=\u001b[39m \u001b[38;5;28mself\u001b[39m\u001b[38;5;241m.\u001b[39mvalues\n\u001b[1;32m--> 616\u001b[0m new_values \u001b[38;5;241m=\u001b[39m astype_array_safe(values, dtype, copy\u001b[38;5;241m=\u001b[39mcopy, errors\u001b[38;5;241m=\u001b[39merrors)\n\u001b[0;32m    618\u001b[0m new_values \u001b[38;5;241m=\u001b[39m maybe_coerce_values(new_values)\n\u001b[0;32m    620\u001b[0m refs \u001b[38;5;241m=\u001b[39m \u001b[38;5;28;01mNone\u001b[39;00m\n",
      "File \u001b[1;32m~\\anaconda3\\envs\\practice\\Lib\\site-packages\\pandas\\core\\dtypes\\astype.py:238\u001b[0m, in \u001b[0;36mastype_array_safe\u001b[1;34m(values, dtype, copy, errors)\u001b[0m\n\u001b[0;32m    235\u001b[0m     dtype \u001b[38;5;241m=\u001b[39m dtype\u001b[38;5;241m.\u001b[39mnumpy_dtype\n\u001b[0;32m    237\u001b[0m \u001b[38;5;28;01mtry\u001b[39;00m:\n\u001b[1;32m--> 238\u001b[0m     new_values \u001b[38;5;241m=\u001b[39m astype_array(values, dtype, copy\u001b[38;5;241m=\u001b[39mcopy)\n\u001b[0;32m    239\u001b[0m \u001b[38;5;28;01mexcept\u001b[39;00m (\u001b[38;5;167;01mValueError\u001b[39;00m, \u001b[38;5;167;01mTypeError\u001b[39;00m):\n\u001b[0;32m    240\u001b[0m     \u001b[38;5;66;03m# e.g. _astype_nansafe can fail on object-dtype of strings\u001b[39;00m\n\u001b[0;32m    241\u001b[0m     \u001b[38;5;66;03m#  trying to convert to float\u001b[39;00m\n\u001b[0;32m    242\u001b[0m     \u001b[38;5;28;01mif\u001b[39;00m errors \u001b[38;5;241m==\u001b[39m \u001b[38;5;124m\"\u001b[39m\u001b[38;5;124mignore\u001b[39m\u001b[38;5;124m\"\u001b[39m:\n",
      "File \u001b[1;32m~\\anaconda3\\envs\\practice\\Lib\\site-packages\\pandas\\core\\dtypes\\astype.py:183\u001b[0m, in \u001b[0;36mastype_array\u001b[1;34m(values, dtype, copy)\u001b[0m\n\u001b[0;32m    180\u001b[0m     values \u001b[38;5;241m=\u001b[39m values\u001b[38;5;241m.\u001b[39mastype(dtype, copy\u001b[38;5;241m=\u001b[39mcopy)\n\u001b[0;32m    182\u001b[0m \u001b[38;5;28;01melse\u001b[39;00m:\n\u001b[1;32m--> 183\u001b[0m     values \u001b[38;5;241m=\u001b[39m _astype_nansafe(values, dtype, copy\u001b[38;5;241m=\u001b[39mcopy)\n\u001b[0;32m    185\u001b[0m \u001b[38;5;66;03m# in pandas we don't store numpy str dtypes, so convert to object\u001b[39;00m\n\u001b[0;32m    186\u001b[0m \u001b[38;5;28;01mif\u001b[39;00m \u001b[38;5;28misinstance\u001b[39m(dtype, np\u001b[38;5;241m.\u001b[39mdtype) \u001b[38;5;129;01mand\u001b[39;00m \u001b[38;5;28missubclass\u001b[39m(values\u001b[38;5;241m.\u001b[39mdtype\u001b[38;5;241m.\u001b[39mtype, \u001b[38;5;28mstr\u001b[39m):\n",
      "File \u001b[1;32m~\\anaconda3\\envs\\practice\\Lib\\site-packages\\pandas\\core\\dtypes\\astype.py:134\u001b[0m, in \u001b[0;36m_astype_nansafe\u001b[1;34m(arr, dtype, copy, skipna)\u001b[0m\n\u001b[0;32m    130\u001b[0m     \u001b[38;5;28;01mraise\u001b[39;00m \u001b[38;5;167;01mValueError\u001b[39;00m(msg)\n\u001b[0;32m    132\u001b[0m \u001b[38;5;28;01mif\u001b[39;00m copy \u001b[38;5;129;01mor\u001b[39;00m arr\u001b[38;5;241m.\u001b[39mdtype \u001b[38;5;241m==\u001b[39m \u001b[38;5;28mobject\u001b[39m \u001b[38;5;129;01mor\u001b[39;00m dtype \u001b[38;5;241m==\u001b[39m \u001b[38;5;28mobject\u001b[39m:\n\u001b[0;32m    133\u001b[0m     \u001b[38;5;66;03m# Explicit copy, or required since NumPy can't view from / to object.\u001b[39;00m\n\u001b[1;32m--> 134\u001b[0m     \u001b[38;5;28;01mreturn\u001b[39;00m arr\u001b[38;5;241m.\u001b[39mastype(dtype, copy\u001b[38;5;241m=\u001b[39m\u001b[38;5;28;01mTrue\u001b[39;00m)\n\u001b[0;32m    136\u001b[0m \u001b[38;5;28;01mreturn\u001b[39;00m arr\u001b[38;5;241m.\u001b[39mastype(dtype, copy\u001b[38;5;241m=\u001b[39mcopy)\n",
      "\u001b[1;31mValueError\u001b[0m: invalid literal for int() with base 10: 'b856b6781d370a3645c6dde0c20b3597'"
     ]
    }
   ],
   "source": [
    "import pandas as pd\n",
    "session = pd.read_csv('C:/Users/Rebecca/Desktop/onlytop1changesession.csv')\n",
    "top1 = pd.read_csv('C:/Users/Rebecca/Desktop/meta_song_genre01.csv')\n",
    "#display(session.head())\n",
    "#display(top1.head())\n",
    "#重置索引\n",
    "session.reset_index(inplace=True)\n",
    "top1.reset_index(inplace=True)\n",
    "\n",
    "# 將 'genre_id' 列轉換為 int64 類型\n",
    "top1['genre_id'] = top1['genre_id'].astype('int64')\n",
    "data = pd.merge(session,top1,how='left', left_on='session_id',right_on='genre_id', left_index = True)\n",
    "#print(data)\n",
    "result_df = data[['session_id', 'song_id', 'genre_id']]\n",
    "print(result_df)\n",
    "#data_unique = data.drop_duplicates(subset=['session_id', 'song_id'])   # 刪除重複的，合併後發現有重複\n",
    "#print(data_unique)\n",
    "#data_unique.to_csv('C:/Users/Rebecca/Desktop/sessionsonggenre.csv')"
   ]
  },
  {
   "cell_type": "code",
   "execution_count": 14,
   "id": "a6f6b378-fe22-4d2b-88ff-d9d52ff21439",
   "metadata": {},
   "outputs": [
    {
     "name": "stdout",
     "output_type": "stream",
     "text": [
      "轉換後的整數: 245028189669227486535806561666703504791\n"
     ]
    }
   ],
   "source": [
    "your_string = 'b856b6781d370a3645c6dde0c20b3597'\n",
    "\n",
    "try:\n",
    "    # 將十六進制字串轉換為整數\n",
    "    your_integer = int(your_string, 16)\n",
    "    print(\"轉換後的整數:\", your_integer)\n",
    "except ValueError:\n",
    "    print(\"字串不是合法的十六進制數字。\")"
   ]
  },
  {
   "cell_type": "markdown",
   "id": "319aac5e-31c9-4eab-80f2-baf67a624f14",
   "metadata": {},
   "source": [
    "後來的想法 : 因為genre_id是字串，不能跟song_id結合。\n",
    "1.把genre_id先轉為int64位元\n",
    "2. 然後再把genre_id把跟song_id結合"
   ]
  },
  {
   "cell_type": "markdown",
   "id": "191f6cf9-9bd8-4fe4-ac54-413b00953850",
   "metadata": {},
   "source": [
    "突然的嘗試 : 把top1相同的對調"
   ]
  },
  {
   "cell_type": "code",
   "execution_count": 7,
   "id": "fc860dd5-f9b8-49b2-8a7c-b582a39be4c6",
   "metadata": {},
   "outputs": [
    {
     "name": "stdout",
     "output_type": "stream",
     "text": [
      "        session_id                              top1  \\\n",
      "0                8  4fe73095fc5cc2bd0abeb1897391b166   \n",
      "1                9  9d438f134d1e172892a10a35d00cd48d   \n",
      "2               18  43ff50171dcf94f2ad0e775ef1a6c707   \n",
      "3               19  6c33e2032630dcafde3a4fd5ae196dc2   \n",
      "4               28  7873629643d3d71732b639e37c381d00   \n",
      "...            ...                               ...   \n",
      "143059      715299  8a2fc1a4b86c6b79a6186ee6b54d79e0   \n",
      "143060      715308  34af8c382bee0cb49c80aa94a3d832d7   \n",
      "143061      715309  29276b4cac2aa84f4f2d455c813a78d6   \n",
      "143062      715318  0efd7762495301cd884c2ae023b936c6   \n",
      "143063      715319  700a3bbe2b689e2da396bee4daafa4b2   \n",
      "\n",
      "                                    top2                              top3  \\\n",
      "0       479a214d596b5bd8608df4d150c638c2  7441fc5d0209012e4d8de08f62c4bc81   \n",
      "1       4a27803802d6090389507671d8aed6eb  85422f927d88358292985cb319d216fa   \n",
      "2       66e6cbab82630d69acca2115157fbcba  d4edad8958ec2d009311dc16b933dd1f   \n",
      "3       45a351c51fe0d8274f0303266a9e0c7d  0834fe236599e7de1f4338176ef19f8b   \n",
      "4       febdbc34c0543eb8c2106d8831929d4d  46f3ecd765abff76eb8ebdc906e2741c   \n",
      "...                                  ...                               ...   \n",
      "143059  af894be6f2cec95b9de30b0a128c83bd  3dbeb7f4350afdacfe4ebbf3d314a6e3   \n",
      "143060  6450c437918ad8d3801eea51397e2c79  63a645cefb9d38aa0ceb84c43694db72   \n",
      "143061  e6929b5368bbf87e8b2154512f5cca3c  a7a52a7a815062349d99a8dd20f73a2d   \n",
      "143062  e060ad71d29968a35ff18702f1869699  a20728aa7e8122584e8b5863c7d0bc02   \n",
      "143063  7ce1913e1511f3d77da7a0b32e640604  bc603ae5839065a50a23592003bf4233   \n",
      "\n",
      "                                    top4                              top5  \n",
      "0       87055faec1e473a80e5f3ae078488faa  37219b3dcadaded38b6a9a00df913ce2  \n",
      "1       9d86e8ea4ee237d367bf8bb93323fae3  e07029ed777503e9427e946fcff1bd7b  \n",
      "2       6accb2b1efc3ef2e50c1b893ed84bc97  a0515485a753187bdf21226e4d99b8bb  \n",
      "3       2647c44c2d3e165c112df6fede00431b  24435c26ccf91c095a9554022b90876c  \n",
      "4       48f4d88bfa736ddaf155fcb1452f9c9c  18ba21ec410a9a9fd2b8f7c0787134ea  \n",
      "...                                  ...                               ...  \n",
      "143059  c489727635800ce9fa0a5d9f10db0c52  67682a4ad52115434285d25cdad55a91  \n",
      "143060  b37406bb5350e406ca0f1bde04ea4815  5ed78b739c3450939a3b748af8e8910e  \n",
      "143061  baebeb7b24f2a38032fdc80f37fda507  59c1e8d811b668353368cc6d3955de8a  \n",
      "143062  d8acfb2a57167b75a5b14f95cb376572  b886a3389e430159a794e70fec50fae1  \n",
      "143063  c6cbfaccb4c07120a76da6b9c14e5902  14b087038ee0d59c55ae0a8e6cbbe081  \n",
      "\n",
      "[143064 rows x 6 columns]\n"
     ]
    }
   ],
   "source": [
    "import pandas as pd\n",
    "\n",
    "df = pd.read_csv('C:/Users/Rebecca/Desktop/output.csv')\n",
    "print(df)\n",
    "\n",
    "# 找出top1相同的session\n",
    "duplicate_top1_song = df[df.duplicated(subset=['top1'], keep=False)]\n",
    "\n",
    "# 進行session之間的top1-top5互換\n",
    "for _, group in duplicate_top1_song.groupby('top1'):\n",
    "    if len(group) > 1:\n",
    "        for i in range(1, 6):\n",
    "            col_name_i = f'top{i}'\n",
    "            df.loc[group.index, col_name_i] = group[col_name_i].values[::-1]\n",
    "\n",
    "output_file_path = 'C:/Users/Rebecca/Desktop/try00.csv'  # 請替換成實際的輸出Excel檔案路徑\n",
    "df.to_csv(output_file_path, index=False)         "
   ]
  },
  {
   "cell_type": "markdown",
   "id": "2f355bdf-3edb-4aa7-aadb-826a70ba28c9",
   "metadata": {},
   "source": [
    "突然想法 : 把top1跟top2相同的對調"
   ]
  },
  {
   "cell_type": "code",
   "execution_count": 8,
   "id": "826bc0dd-e365-45aa-94f3-fe0470e4d81c",
   "metadata": {},
   "outputs": [
    {
     "name": "stdout",
     "output_type": "stream",
     "text": [
      "        session_id                              top1  \\\n",
      "0                8  4fe73095fc5cc2bd0abeb1897391b166   \n",
      "1                9  9d438f134d1e172892a10a35d00cd48d   \n",
      "2               18  43ff50171dcf94f2ad0e775ef1a6c707   \n",
      "3               19  6c33e2032630dcafde3a4fd5ae196dc2   \n",
      "4               28  7873629643d3d71732b639e37c381d00   \n",
      "...            ...                               ...   \n",
      "143059      715299  8a2fc1a4b86c6b79a6186ee6b54d79e0   \n",
      "143060      715308  34af8c382bee0cb49c80aa94a3d832d7   \n",
      "143061      715309  29276b4cac2aa84f4f2d455c813a78d6   \n",
      "143062      715318  0efd7762495301cd884c2ae023b936c6   \n",
      "143063      715319  700a3bbe2b689e2da396bee4daafa4b2   \n",
      "\n",
      "                                    top2                              top3  \\\n",
      "0       479a214d596b5bd8608df4d150c638c2  7441fc5d0209012e4d8de08f62c4bc81   \n",
      "1       4a27803802d6090389507671d8aed6eb  85422f927d88358292985cb319d216fa   \n",
      "2       66e6cbab82630d69acca2115157fbcba  d4edad8958ec2d009311dc16b933dd1f   \n",
      "3       45a351c51fe0d8274f0303266a9e0c7d  0834fe236599e7de1f4338176ef19f8b   \n",
      "4       febdbc34c0543eb8c2106d8831929d4d  46f3ecd765abff76eb8ebdc906e2741c   \n",
      "...                                  ...                               ...   \n",
      "143059  af894be6f2cec95b9de30b0a128c83bd  3dbeb7f4350afdacfe4ebbf3d314a6e3   \n",
      "143060  6450c437918ad8d3801eea51397e2c79  63a645cefb9d38aa0ceb84c43694db72   \n",
      "143061  e6929b5368bbf87e8b2154512f5cca3c  a7a52a7a815062349d99a8dd20f73a2d   \n",
      "143062  e060ad71d29968a35ff18702f1869699  a20728aa7e8122584e8b5863c7d0bc02   \n",
      "143063  7ce1913e1511f3d77da7a0b32e640604  bc603ae5839065a50a23592003bf4233   \n",
      "\n",
      "                                    top4                              top5  \n",
      "0       87055faec1e473a80e5f3ae078488faa  37219b3dcadaded38b6a9a00df913ce2  \n",
      "1       9d86e8ea4ee237d367bf8bb93323fae3  e07029ed777503e9427e946fcff1bd7b  \n",
      "2       6accb2b1efc3ef2e50c1b893ed84bc97  a0515485a753187bdf21226e4d99b8bb  \n",
      "3       2647c44c2d3e165c112df6fede00431b  24435c26ccf91c095a9554022b90876c  \n",
      "4       48f4d88bfa736ddaf155fcb1452f9c9c  18ba21ec410a9a9fd2b8f7c0787134ea  \n",
      "...                                  ...                               ...  \n",
      "143059  c489727635800ce9fa0a5d9f10db0c52  67682a4ad52115434285d25cdad55a91  \n",
      "143060  b37406bb5350e406ca0f1bde04ea4815  5ed78b739c3450939a3b748af8e8910e  \n",
      "143061  baebeb7b24f2a38032fdc80f37fda507  59c1e8d811b668353368cc6d3955de8a  \n",
      "143062  d8acfb2a57167b75a5b14f95cb376572  b886a3389e430159a794e70fec50fae1  \n",
      "143063  c6cbfaccb4c07120a76da6b9c14e5902  14b087038ee0d59c55ae0a8e6cbbe081  \n",
      "\n",
      "[143064 rows x 6 columns]\n"
     ]
    }
   ],
   "source": [
    "import pandas as pd\n",
    "\n",
    "df = pd.read_csv('C:/Users/Rebecca/Desktop/output.csv')\n",
    "print(df)\n",
    "\n",
    "# 找出top1和top2相同的使用者\n",
    "duplicate_top1_top2_users = df[df['top1'] == df['top2']]\n",
    "\n",
    "# 進行使用者之間的排名互換\n",
    "for _, row in duplicate_top1_top2_users.iterrows():\n",
    "    for i in range(1, 6):\n",
    "        col_name_i = f'top{i}'\n",
    "        df.at[row.name, col_name_i] = row[f'top{i}']\n",
    "\n",
    "output_file_path = 'C:/Users/Rebecca/Desktop/try001.csv'  # 請替換成實際的輸出Excel檔案路徑\n",
    "df.to_csv(output_file_path, index=False)         "
   ]
  },
  {
   "cell_type": "markdown",
   "id": "6c573528-31f4-4949-b719-15aba54b24c8",
   "metadata": {},
   "source": [
    "突然想法 : 把top1跟top2跟top3相同的對調"
   ]
  },
  {
   "cell_type": "code",
   "execution_count": 10,
   "id": "7a525f62-11db-4895-9aa3-ecbb4a38a5b2",
   "metadata": {},
   "outputs": [
    {
     "name": "stdout",
     "output_type": "stream",
     "text": [
      "        session_id                              top1  \\\n",
      "0                8  4fe73095fc5cc2bd0abeb1897391b166   \n",
      "1                9  9d438f134d1e172892a10a35d00cd48d   \n",
      "2               18  43ff50171dcf94f2ad0e775ef1a6c707   \n",
      "3               19  6c33e2032630dcafde3a4fd5ae196dc2   \n",
      "4               28  7873629643d3d71732b639e37c381d00   \n",
      "...            ...                               ...   \n",
      "143059      715299  8a2fc1a4b86c6b79a6186ee6b54d79e0   \n",
      "143060      715308  34af8c382bee0cb49c80aa94a3d832d7   \n",
      "143061      715309  29276b4cac2aa84f4f2d455c813a78d6   \n",
      "143062      715318  0efd7762495301cd884c2ae023b936c6   \n",
      "143063      715319  700a3bbe2b689e2da396bee4daafa4b2   \n",
      "\n",
      "                                    top2                              top3  \\\n",
      "0       479a214d596b5bd8608df4d150c638c2  7441fc5d0209012e4d8de08f62c4bc81   \n",
      "1       4a27803802d6090389507671d8aed6eb  85422f927d88358292985cb319d216fa   \n",
      "2       66e6cbab82630d69acca2115157fbcba  d4edad8958ec2d009311dc16b933dd1f   \n",
      "3       45a351c51fe0d8274f0303266a9e0c7d  0834fe236599e7de1f4338176ef19f8b   \n",
      "4       febdbc34c0543eb8c2106d8831929d4d  46f3ecd765abff76eb8ebdc906e2741c   \n",
      "...                                  ...                               ...   \n",
      "143059  af894be6f2cec95b9de30b0a128c83bd  3dbeb7f4350afdacfe4ebbf3d314a6e3   \n",
      "143060  6450c437918ad8d3801eea51397e2c79  63a645cefb9d38aa0ceb84c43694db72   \n",
      "143061  e6929b5368bbf87e8b2154512f5cca3c  a7a52a7a815062349d99a8dd20f73a2d   \n",
      "143062  e060ad71d29968a35ff18702f1869699  a20728aa7e8122584e8b5863c7d0bc02   \n",
      "143063  7ce1913e1511f3d77da7a0b32e640604  bc603ae5839065a50a23592003bf4233   \n",
      "\n",
      "                                    top4                              top5  \n",
      "0       87055faec1e473a80e5f3ae078488faa  37219b3dcadaded38b6a9a00df913ce2  \n",
      "1       9d86e8ea4ee237d367bf8bb93323fae3  e07029ed777503e9427e946fcff1bd7b  \n",
      "2       6accb2b1efc3ef2e50c1b893ed84bc97  a0515485a753187bdf21226e4d99b8bb  \n",
      "3       2647c44c2d3e165c112df6fede00431b  24435c26ccf91c095a9554022b90876c  \n",
      "4       48f4d88bfa736ddaf155fcb1452f9c9c  18ba21ec410a9a9fd2b8f7c0787134ea  \n",
      "...                                  ...                               ...  \n",
      "143059  c489727635800ce9fa0a5d9f10db0c52  67682a4ad52115434285d25cdad55a91  \n",
      "143060  b37406bb5350e406ca0f1bde04ea4815  5ed78b739c3450939a3b748af8e8910e  \n",
      "143061  baebeb7b24f2a38032fdc80f37fda507  59c1e8d811b668353368cc6d3955de8a  \n",
      "143062  d8acfb2a57167b75a5b14f95cb376572  b886a3389e430159a794e70fec50fae1  \n",
      "143063  c6cbfaccb4c07120a76da6b9c14e5902  14b087038ee0d59c55ae0a8e6cbbe081  \n",
      "\n",
      "[143064 rows x 6 columns]\n"
     ]
    }
   ],
   "source": [
    "import pandas as pd\n",
    "\n",
    "df = pd.read_csv('C:/Users/Rebecca/Desktop/output.csv')\n",
    "print(df)\n",
    "\n",
    "# 找出top1、top2和top3相同的使用者\n",
    "duplicate_top1_top2_top3_song = df[(df['top1'] == df['top2']) & (df['top1'] == df['top3'])]\n",
    "\n",
    "# 進行使用者之間的排名互換\n",
    "for _, row in duplicate_top1_top2_top3_song.iterrows():\n",
    "    for i in range(1, 6):\n",
    "        col_name_i = f'top{i}'\n",
    "        df.at[row.name, col_name_i] = row[f'top{i}']\n",
    "        \n",
    "output_file_path = 'C:/Users/Rebecca/Desktop/try002.csv'  # 請替換成實際的輸出Excel檔案路徑\n",
    "df.to_csv(output_file_path, index=False)"
   ]
  },
  {
   "cell_type": "code",
   "execution_count": null,
   "id": "d2468efa-771d-4c6c-8386-3295354aa17d",
   "metadata": {},
   "outputs": [],
   "source": []
  }
 ],
 "metadata": {
  "kernelspec": {
   "display_name": "Python 3 (ipykernel)",
   "language": "python",
   "name": "python3"
  },
  "language_info": {
   "codemirror_mode": {
    "name": "ipython",
    "version": 3
   },
   "file_extension": ".py",
   "mimetype": "text/x-python",
   "name": "python",
   "nbconvert_exporter": "python",
   "pygments_lexer": "ipython3",
   "version": "3.11.5"
  }
 },
 "nbformat": 4,
 "nbformat_minor": 5
}
